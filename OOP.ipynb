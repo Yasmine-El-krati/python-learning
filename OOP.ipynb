{
 "cells": [
  {
   "cell_type": "code",
   "execution_count": 1,
   "id": "9c3265e9-70ae-45b0-913f-9d5159afba88",
   "metadata": {},
   "outputs": [
    {
     "name": "stdout",
     "output_type": "stream",
     "text": [
      "Blu is a bird\n",
      "Woo is also a bird\n",
      "Blu is 10 years old\n",
      "Woo is 15 years old\n"
     ]
    }
   ],
   "source": [
    "class Parrot:\n",
    "    # class attribute\n",
    "    species = \"bird\"\n",
    "\n",
    "    # instance attribute\n",
    "    def __init__(self, name, age):\n",
    "        self.name = name\n",
    "        self.age = age\n",
    "\n",
    "# instantiate the Parrot class\n",
    "blu = Parrot(\"Blu\", 10)\n",
    "woo = Parrot(\"Woo\", 15)\n",
    "\n",
    "# access the class attributes\n",
    "print(\"Blu is a {}\".format(blu.__class__.species))\n",
    "print(\"Woo is also a {}\".format(woo.__class__.species))\n",
    "\n",
    "# access the instance attributes\n",
    "print(\"{} is {} years old\".format( blu.name, blu.age))\n",
    "print(\"{} is {} years old\".format( woo.name, woo.age))"
   ]
  },
  {
   "cell_type": "code",
   "execution_count": 2,
   "id": "2dbc3b59-179b-46e9-8590-4e9cf81dbe72",
   "metadata": {},
   "outputs": [
    {
     "name": "stdout",
     "output_type": "stream",
     "text": [
      "This is my docstring, this explains brief about the class\n"
     ]
    }
   ],
   "source": [
    "class DemoClass:\n",
    "    \"\"\"This is my docstring, this explains brief about the class\"\"\"\n",
    "\n",
    "# this prints the docstring of the class\n",
    "print(DemoClass.__doc__)\n"
   ]
  },
  {
   "cell_type": "code",
   "execution_count": 3,
   "id": "1800c2ab-00b0-4dac-b9a1-e6c9450bc4f3",
   "metadata": {},
   "outputs": [
    {
     "name": "stdout",
     "output_type": "stream",
     "text": [
      "Blu sings 'Happy'\n",
      "Blu is now dancing\n"
     ]
    }
   ],
   "source": [
    "class Parrot:\n",
    "    \n",
    "    # instance attributes\n",
    "    def __init__(self, name, age):\n",
    "        self.name = name\n",
    "        self.age = age\n",
    "    \n",
    "    # instance method\n",
    "    def sing(self, song):\n",
    "        return \"{} sings {}\".format(self.name, song)\n",
    "\n",
    "    def dance(self):\n",
    "        return \"{} is now dancing\".format(self.name)\n",
    "\n",
    "# instantiate the object\n",
    "blu = Parrot(\"Blu\", 10)\n",
    "\n",
    "# call our instance methods\n",
    "print(blu.sing(\"'Happy'\"))\n",
    "print(blu.dance())"
   ]
  },
  {
   "cell_type": "code",
   "execution_count": 9,
   "id": "a2977178-d027-4286-919f-cd92e0d4840c",
   "metadata": {},
   "outputs": [],
   "source": [
    "class Person():\n",
    "    \n",
    "    def __init__(self, name, age):\n",
    "        self.name = name\n",
    "        self.age = age\n",
    "        \n",
    "    def walking(self):\n",
    "        print(\"the person is walking\")\n",
    "        \n",
    "    def sleep(self):\n",
    "        print(\"the person is sleep\")\n",
    "        \n",
    "  \n",
    "\n",
    "class Player(Person):\n",
    "    \n",
    "    def __init__(self, name, age, club):\n",
    "        super().__init__(name,age)\n",
    "        self.club = club"
   ]
  },
  {
   "cell_type": "code",
   "execution_count": 25,
   "id": "a7df32fd-6cde-4f81-9ecc-53cb21a2b72c",
   "metadata": {},
   "outputs": [
    {
     "name": "stdout",
     "output_type": "stream",
     "text": [
      "the person is walking\n"
     ]
    }
   ],
   "source": [
    "person1=Person(name=\"yasmine\", age=\"18\")\n",
    "person1.walking()"
   ]
  },
  {
   "cell_type": "code",
   "execution_count": 21,
   "id": "da60eec2-ce7a-4171-b782-2b7ec80c68c0",
   "metadata": {},
   "outputs": [
    {
     "ename": "AttributeError",
     "evalue": "'Player' object has no attribute 'age'",
     "output_type": "error",
     "traceback": [
      "\u001b[1;31m---------------------------------------------------------------------------\u001b[0m",
      "\u001b[1;31mAttributeError\u001b[0m                            Traceback (most recent call last)",
      "Cell \u001b[1;32mIn[21], line 6\u001b[0m\n\u001b[0;32m      4\u001b[0m player1\u001b[38;5;241m.\u001b[39mage\n\u001b[0;32m      5\u001b[0m \u001b[38;5;28;01mdel\u001b[39;00m player1\u001b[38;5;241m.\u001b[39mage\n\u001b[1;32m----> 6\u001b[0m player1\u001b[38;5;241m.\u001b[39mage\n",
      "\u001b[1;31mAttributeError\u001b[0m: 'Player' object has no attribute 'age'"
     ]
    }
   ],
   "source": [
    "player1= Player( name=\"messi\" , age =30 , club = \"argentina\")\n",
    "player1.name\n",
    "player1.age=20\n",
    "player1.age\n",
    "del player1.age\n",
    "player1.age"
   ]
  },
  {
   "cell_type": "code",
   "execution_count": null,
   "id": "c68856a7-4bc1-4780-a473-a9d147f867e2",
   "metadata": {},
   "outputs": [],
   "source": []
  },
  {
   "cell_type": "raw",
   "id": "2a5b0dbc-5a79-48b3-8478-95d368a3d876",
   "metadata": {},
   "source": [
    "Instructions\n",
    "\n",
    "1 /  Write a Python class named Point3D defined by x, y, and z. Define a method that returns (x, y ,z). This tells Python to represent this object in the following format: (x, y, z).\n",
    "Then create a variable named my_point containing a new instance of Point3D with x=1, y=2, and z=3 and print it.\n",
    "2 / Write a Python class named Rectangle constructed by a length and width.\n",
    "Define two methods, area and perimeter, which will compute the area and the perimeter of the rectangle.\n",
    "Then create a variable named my_rectangle containing a new instance of Rectangle with width=3 and length = 4 and compute both area and perimeter ( the area is expected to be 3*4=12 and perimeter 2*(3+4)=14).\n",
    "3 / Write a Python  class named Circle constructed by its center O and radius r. Define two methods, area and perimeter, which will compute the area and the perimeter of the circle, and is Inside() method which allows you to test whether a point A(x, y) belongs to the circle C(O, r) or not.\n",
    "4 / Suppose we want to model a bank account with support for deposit and withdraw operations.\n",
    "Let’s create a Python class named Bank defined by its balance. Define two methods, deposit and withdraw, to compute the new amount of each operation."
   ]
  },
  {
   "cell_type": "code",
   "execution_count": 47,
   "id": "9f3ab40c-dcd0-4eb9-ad14-1081ec74cfe2",
   "metadata": {},
   "outputs": [],
   "source": [
    "class Point3D :\n",
    "    def __init__ (self,x,y,z) :\n",
    "        self.x=x\n",
    "        self.y=y\n",
    "        self.z=z \n",
    "    def format_3D (self) :\n",
    "        return f\"({self.x}, {self.y}, {self.z})\"\n"
   ]
  },
  {
   "cell_type": "code",
   "execution_count": 48,
   "id": "5a24596a-870c-47f8-90ef-832fc3a84864",
   "metadata": {},
   "outputs": [
    {
     "name": "stdout",
     "output_type": "stream",
     "text": [
      "(1, 2, 3)\n"
     ]
    }
   ],
   "source": [
    "my_point = Point3D( x=1 , y=2 , z=3 )\n",
    "print(my_point.format_3D())"
   ]
  },
  {
   "cell_type": "code",
   "execution_count": 55,
   "id": "bcbda080-fd78-4093-8cc6-6da917a2749b",
   "metadata": {},
   "outputs": [],
   "source": [
    "class Rectangle : \n",
    "    def __init__(self,length,width ) :\n",
    "        self.length = length\n",
    "        self.width=width\n",
    "    def area (self): \n",
    "        return self.length*self.width\n",
    "    def perimeter(self): \n",
    "        return 2*(self.length+self.width)\n",
    "   \n",
    "        "
   ]
  },
  {
   "cell_type": "code",
   "execution_count": 56,
   "id": "728fa46a-16fa-4695-8e10-3da1b7885bda",
   "metadata": {},
   "outputs": [
    {
     "name": "stdout",
     "output_type": "stream",
     "text": [
      "12\n",
      "14\n"
     ]
    }
   ],
   "source": [
    "my_rectangle = Rectangle (length =4 ,width =3 )\n",
    "print( my_rectangle.area() )\n",
    "print( my_rectangle.perimeter() )"
   ]
  },
  {
   "cell_type": "markdown",
   "id": "6d182743-5e04-44f5-a7cb-319442cc59c9",
   "metadata": {},
   "source": [
    "3 / Write a Python  class named Circle constructed by its center O and radius r. Define two methods, area and perimeter, which will compute the area and the perimeter of the circle, and is Inside() method which allows you to test whether a point A(x, y) belongs to the circle C(O, r) or not."
   ]
  },
  {
   "cell_type": "code",
   "execution_count": 109,
   "id": "b1fede69-8259-4373-9ec5-b5808f8f2014",
   "metadata": {},
   "outputs": [],
   "source": [
    "import math\n",
    "class Circle () : \n",
    "    def __init__ (self,center,radius) :\n",
    "        self.center = center\n",
    "        self.radius = radius\n",
    "    def area (self): \n",
    "        return math.pi*(self.radius **2)\n",
    "    def perimeter(self):\n",
    "        return 2*math.pi*self.radius \n",
    "    def is_inside(self, point):\n",
    "        distance = math.sqrt((point[0] - self.center[0]) ** 2 + (point[1] - self.center[1]) ** 2)\n",
    "        if distance<= self.radius :\n",
    "             return True\n",
    "        else: \n",
    "             return False\n",
    "\n",
    "\n"
   ]
  },
  {
   "cell_type": "code",
   "execution_count": 110,
   "id": "213ee439-6e62-42b5-abe6-01a670d7fb9b",
   "metadata": {},
   "outputs": [
    {
     "name": "stdout",
     "output_type": "stream",
     "text": [
      "28.274333882308138\n",
      "18.84955592153876\n",
      "True\n"
     ]
    }
   ],
   "source": [
    "my_circle = Circle (center=(0,0) ,radius=3 )\n",
    "print(my_circle.area())\n",
    "print(my_circle.perimeter())\n",
    "print(my_circle.is_inside((1,2)))"
   ]
  },
  {
   "cell_type": "markdown",
   "id": "88e8747a-2ccf-4f5c-ad4d-20d316f63347",
   "metadata": {},
   "source": [
    "4 / Suppose we want to model a bank account with support for deposit and withdraw operations.\n",
    "Let’s create a Python class named Bank defined by its balance. Define two methods, deposit and withdraw, to compute the new amount of each operation."
   ]
  },
  {
   "cell_type": "code",
   "execution_count": 120,
   "id": "7f8be59f-daec-464a-8cf3-49b026398efe",
   "metadata": {},
   "outputs": [],
   "source": [
    " class Bank : \n",
    "     def __init__ (self, balance) :\n",
    "         self.balance = balance\n",
    "     def deposit (self, montante) : \n",
    "         self.balance += montante \n",
    "         print(f\"you just Deposited: {montante}\")\n",
    "     def withdraw (self, montante) : \n",
    "         if montante <= self.balance : \n",
    "             self.balance -= montante\n",
    "             print(f\"the montante Withdrew is  : {montante}\")\n",
    "         else : \n",
    "             print (\" the amount does not exist in the your bank \") \n",
    "     def new_amount (self) :\n",
    "         return self.balance\n",
    "             \n",
    "         "
   ]
  },
  {
   "cell_type": "code",
   "execution_count": 121,
   "id": "63a6df24-e4fa-4175-be6b-3bc1c106aee7",
   "metadata": {},
   "outputs": [
    {
     "name": "stdout",
     "output_type": "stream",
     "text": [
      "1000\n",
      "you just Deposited: 500\n",
      "None\n",
      "the montante Withdrew is  : 200\n",
      "None\n",
      "1300\n"
     ]
    }
   ],
   "source": [
    "my_bank=Bank ( 1000) \n",
    "print(my_bank.balance)\n",
    "print(my_bank.deposit(500))\n",
    "print(my_bank.withdraw(200))\n",
    "print(my_bank.new_amount())"
   ]
  },
  {
   "cell_type": "code",
   "execution_count": null,
   "id": "1c75635f-8545-48af-8f47-6758794bd1c8",
   "metadata": {},
   "outputs": [],
   "source": []
  },
  {
   "cell_type": "code",
   "execution_count": null,
   "id": "bf3093c8-8806-489f-9174-12beb2644d8b",
   "metadata": {},
   "outputs": [],
   "source": []
  },
  {
   "cell_type": "code",
   "execution_count": null,
   "id": "de3acb60-94cb-4da9-a1a6-df61d80036a3",
   "metadata": {},
   "outputs": [],
   "source": []
  },
  {
   "cell_type": "code",
   "execution_count": null,
   "id": "cb6fd9d5-e2f3-4fc3-9a3a-8899fab21ff6",
   "metadata": {},
   "outputs": [],
   "source": []
  }
 ],
 "metadata": {
  "kernelspec": {
   "display_name": "Python 3 (ipykernel)",
   "language": "python",
   "name": "python3"
  },
  "language_info": {
   "codemirror_mode": {
    "name": "ipython",
    "version": 3
   },
   "file_extension": ".py",
   "mimetype": "text/x-python",
   "name": "python",
   "nbconvert_exporter": "python",
   "pygments_lexer": "ipython3",
   "version": "3.12.4"
  }
 },
 "nbformat": 4,
 "nbformat_minor": 5
}
