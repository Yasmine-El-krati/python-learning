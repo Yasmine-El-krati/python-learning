{
 "cells": [
  {
   "cell_type": "markdown",
   "id": "997ddf69-e21b-4b80-b4b4-cb85f4c28eec",
   "metadata": {},
   "source": [
    "Your task is to convert a number into a string representing sounds of raindrops based on its potential factors. A factor is a number that divides another number evenly, without leaving a remainder. The simplest way to check if a number is a factor of another is by using the modulo operation.\n",
    "\n",
    "The rules for raindrops are as follows: if a given number:\n",
    "\n",
    "has 3 as a factor, add \"Pling\" to the result.\n",
    "\n",
    "has 5 as a factor, add \"Plang\" to the result.\n",
    "\n",
    "has 7 as a factor, add \"Plong\" to the result.\n",
    "\n",
    "has none of 3, 5, or 7 as factors, the result should be the digits of the number itself."
   ]
  },
  {
   "cell_type": "code",
   "execution_count": null,
   "id": "cc1a5395-af0b-407d-82a4-ea0aed3ab19d",
   "metadata": {},
   "outputs": [],
   "source": [
    "my_number  = int (input ( \" entre un nombre \") )\n",
    "if my_number % 3 == 0  : \n",
    "    print (\" pling\") \n",
    "elif  my_number % 5 == 0 :\n",
    "    print ( \" plang \") \n",
    "elif my_number % 7 == 0 : \n",
    "    print ( \" plong \" )\n",
    "else :\n",
    "    print ( my_number  ) "
   ]
  },
  {
   "cell_type": "markdown",
   "id": "7e331f9c-30c4-4f16-ab7f-a8c5de38e68a",
   "metadata": {},
   "source": [
    "You are going to write a virtual coin toss program. It will randomly tell the user \"Heads\" or \"Tails\". Important, the first letter should be capitalised and spelt exactly like in the example e.g. Heads, not heads. There are many ways of doing this. But to practice what we learnt in the last lesson, you should generate a random number, either 0 or 1. Then use that number to print out Heads or Tails."
   ]
  },
  {
   "cell_type": "code",
   "execution_count": null,
   "id": "ce72cfb2-685d-49bd-95d4-2aa8d0d4b268",
   "metadata": {},
   "outputs": [],
   "source": [
    "import random \n",
    "if random.randint(0, 1) == 0: \n",
    "    print (\"Heads\")\n",
    "else : \n",
    "      print (\"Tails\")\n"
   ]
  },
  {
   "cell_type": "markdown",
   "id": "8e371f37-a8ed-4173-b59f-4c99a74536ef",
   "metadata": {},
   "source": [
    "Instructions : Create a dictionary named student with the following keys and values:\n",
    "\n",
    "name: \"Alice\" age: 21 major: \"Data Science\" Access and print the value associated with the key name.\n",
    "\n",
    "Print all the keys in the dictionary.\n",
    "\n",
    "Print all the values in the dictionary.\n",
    "\n",
    "Update the age to 22.\n",
    "\n",
    "Add a new key-value pair: graduation_year: 2025.\n",
    "\n",
    "Print the updated dictionary."
   ]
  },
  {
   "cell_type": "code",
   "execution_count": null,
   "id": "60a416e5-3ea5-4df5-ac0b-50f63d0a7339",
   "metadata": {},
   "outputs": [],
   "source": [
    "student =\t{ \"name\": \"Alice\",\"age\": 21,\"major\": \"Data Science\"}\n",
    "print (student )\n",
    "for key in student.keys() :\n",
    "    print(key)\n",
    "for values in student.values() :\n",
    "    print(values)\n",
    "student.update({\"age\": 22})\n",
    "print(student)\n",
    "student[\"graduation_year\"]=2025\n",
    "print(student)\n"
   ]
  },
  {
   "cell_type": "markdown",
   "id": "fec89ee1-933f-4b23-988c-b9bc33ed2cf3",
   "metadata": {},
   "source": [
    "Question 1\r\n",
    "\r\n",
    "Write a Python program that multiplies all the items in a list.\r\n",
    "\r\n",
    "Sample list= [2, 3, 6]\r\n",
    "\r\n",
    "Result = 36\r\n",
    "\r\n",
    "Question 2\r\n",
    "\r\n",
    "Write a Python program to get a list, sorted in increasing order by the last element in each tuple, from a given list of non-empty tuples.\r\n",
    "\r\n",
    "Sample List : [(2, 5), (1, 2), (4, 4), (2, 3), (2, 1)]\r\n",
    "\r\n",
    "Expected result : [(2, 1), (1, 2), (2, 3), (4, 4), (2, 5)]\r\n",
    "\r\n",
    "Hint: You can use the sort function.\r\n",
    "\r\n",
    "Question 3\r\n",
    "\r\n",
    "Write a Python program that combines two dictionaries by adding values for common keys.\r\n",
    "\r\n",
    "d1 = {'a': 100, 'b': 200, 'c':300}\r\n",
    "\r\n",
    "d2 = {'a': 300, 'b': 200, 'd':400}\r\n",
    "\r\n",
    "Expected result: {'a': 400, 'b': 400, 'd': 400, 'c': 300}\r\n",
    "\r\n",
    "Question 4\r\n",
    "\r\n",
    "With a given integral number n, write a program to generate a dictionary that contains (i, i*i) so that is an integral number between 1 and n (both included). Then the program should print the dictionary. Suppose the following input is supplied to the program: 8. Then, the output should be: {1: 1, 2: 4, 3: 9, 4: 16, 5: 25, 6: 36, 7: 49, 8: 64}\r\n",
    "\r\n",
    "Question 5\r\n",
    "\r\n",
    "Write a program to sort a tuple by its float element.\r\n",
    "\r\n",
    "For example: list= [('item1', '12.20'), (item2', '15.10'), ('item3', '24.5')]\r\n",
    "\r\n",
    "Expected result: [('item3', '24.5'), ('item2', '15.10'), ('item1', '12.20')]\r\n",
    "\r\n",
    "Question 6\r\n",
    "\r\n",
    "Write a Python program to create a set.\r\n",
    "\r\n",
    "Examples : {0, 1, 2, 3, 4}\r\n",
    "\r\n",
    "Write a Python program to iteration over sets.\r\n",
    "\r\n",
    "Write a Python program to add members in a set and to remove items from a given set."
   ]
  },
  {
   "cell_type": "code",
   "execution_count": null,
   "id": "a56a2083-733c-4d19-9af6-3dfbf6e1a667",
   "metadata": {},
   "outputs": [],
   "source": [
    "itm1=int(input(\"enter the first item in the list\"))\n",
    "itm2=int(input(\"enter the second item in the list\"))\n",
    "itm3=int(input(\"enter the third item in the list\"))\n",
    "result=0 \n",
    "list =[itm1 , itm2 , itm3 ] \n",
    "print (list) \n",
    "result=itm1 * itm2 * itm3 \n",
    "print ( \"result = \" , result ) "
   ]
  },
  {
   "cell_type": "code",
   "execution_count": null,
   "id": "d3b784f0-c3b7-41b9-9424-e5bcb85a5ef7",
   "metadata": {},
   "outputs": [],
   "source": [
    "nbr1,nbr2,nbr3,nbr4,nbr5,nbr6=0,0,0,0,0,0\n",
    "nbr1=int(input(\"enter  number for  tuple 1  \"))\n",
    "nbr2=int(input(\"enter  number for  tuple 1  \"))\n",
    "nbr3=int(input(\"enter  number for  tuple 2  \"))\n",
    "nbr4=int(input(\"enter  number for  tuple 2 \"))\n",
    "nbr5=int(input(\"enter  number for  tuple 3 \"))\n",
    "nbr6=int(input(\"enter  number for  tuple 3 \"))\n",
    "print ( ( nbr1 , nbr2 ) , ( nbr3 , nbr4 ) , ( nbr5 , nbr6 )  )\n",
    "list= [  ( nbr1 , nbr2 ) , ( nbr3 , nbr4 ) , ( nbr5 , nbr6 ) ]\n",
    "sorted(list)"
   ]
  },
  {
   "cell_type": "code",
   "execution_count": null,
   "id": "9775ef7c-8831-4ad6-8d7d-dfdac4f2225f",
   "metadata": {},
   "outputs": [],
   "source": [
    "nbr1,nbr2, nbr3 = 0,0,0 \n",
    "nbr1 = int(input(\"saisir valeur de nbr1 pour d1\"))   \n",
    "nbr2 = int(input(\"saisir valeur de nbr2 pour d1\"))\n",
    "nbr3 = int(input(\"saisir valeur de nbr3 pour d1\"))\n",
    "nbr4,nbr5, nbr6 = 0,0,0 \n",
    "nbr4 = int(input(\"saisir valeur de nbr4 pour d2\")) \n",
    "nbr5 = int(input(\"saisir valeur de nbr5 pour d2\"))\n",
    "nbr6 = int(input(\"saisir valeur de nbr6 pour d2\")) \n",
    "d1 = {'a': nbr1, 'b': nbr2, 'c': nbr3}\n",
    "d2 = {'a': nbr4, 'b': nbr5, 'd':nbr6}\n",
    "print(d1,d2)\n",
    "d3 = {} \n",
    "for key in d1:\n",
    "    if key in d2:\n",
    "        d3[key] = d1[key] + d2[key]\n",
    "    else:\n",
    "          d3[key] = d1[key]\n",
    "for key in d2:\n",
    "    if key not in  d1:\n",
    "          d3[key] = d2[key]\n",
    "        \n",
    "print(d3)"
   ]
  },
  {
   "cell_type": "code",
   "execution_count": null,
   "id": "49cb2452-ea44-4657-b32c-374cffbaa1a2",
   "metadata": {},
   "outputs": [],
   "source": [
    "n = int(input(\"saisir un number : \"))\n",
    "i = 1\n",
    "d1 = {}\n",
    "for i in range(1, n + 1):\n",
    "    d1[i] = i * i\n",
    "    i=i+1\n",
    "print(d1)"
   ]
  },
  {
   "cell_type": "code",
   "execution_count": null,
   "id": "072c2717-cece-44c9-a420-a6d3bb6efc00",
   "metadata": {},
   "outputs": [],
   "source": [
    "nbr1,nbr2,nbr3=0,0,0\n",
    "nbr1=float(input(\"enter  number for  tuple 1  \"))\n",
    "nbr2=float(input(\"enter  number for  tuple 1  \"))\n",
    "nbr3=float(input(\"enter  number for  tuple 2  \"))\n",
    "list= [ ( 'item1' , nbr1 ) ,( 'item2', nbr2 ) , ( 'item3' , nbr3 ) ]\n",
    "list.reverse()\n",
    "print('Reversed List:', list)"
   ]
  },
  {
   "cell_type": "code",
   "execution_count": null,
   "id": "1b65ec98-488e-4470-8b1b-58e18d3d163a",
   "metadata": {},
   "outputs": [],
   "source": [
    "n=int (input(\" enter number of items \")) \n",
    "i=0 \n",
    "my_set = set()\n",
    "for i in range(1,n+1) :\n",
    "   a= int(input(\"enter the item  \" ))\n",
    "   my_set.add(a)\n",
    "my_set\n",
    "my_set.remove(a) \n",
    "my_set"
   ]
  },
  {
   "cell_type": "code",
   "execution_count": null,
   "id": "20e675c8-14b6-4544-9ecc-bc44518dd1ba",
   "metadata": {},
   "outputs": [],
   "source": [
    "my_set.remove(a) \n",
    "my_set"
   ]
  },
  {
   "cell_type": "markdown",
   "id": "af054cc7-9d29-4bf9-b1f0-72af60210d13",
   "metadata": {},
   "source": [
    "Write a Python program in the form of a function that takes two lists as parameters and returns True if the two lists have at least one common element, and False otherwise."
   ]
  },
  {
   "cell_type": "code",
   "execution_count": null,
   "id": "90009c3e-9258-45ed-9f22-febbacd9b6ff",
   "metadata": {},
   "outputs": [],
   "source": [
    "n=int (input(\" enter number of items \")) \n",
    "i=0 \n",
    "my_list1 = list()\n",
    "for i in range(1,n+1) :\n",
    "   a= int(input(\"enter the item  \" ))\n",
    "   my_list1.append(a)\n",
    "print(my_list1)\n",
    "my_list2 = list()\n",
    "for i in range(1,n+1) :\n",
    "   a= int(input(\"enter the item  \" ))\n",
    "   my_list2.append(a)\n",
    "print(my_list2)\n",
    "intersection  = my_list1 and my_list2\n",
    "def common (my_list1,my_list2) : \n",
    "    if intersection== 1 : \n",
    "       return true \n",
    "    else : \n",
    "       return false\n",
    "common(my_list1,my_list2)"
   ]
  },
  {
   "cell_type": "code",
   "execution_count": null,
   "id": "fa78b09c-02c3-4952-b4ac-033e05edb5f2",
   "metadata": {},
   "outputs": [],
   "source": [
    "def calculator(num1,num2):\n",
    "    operator = input('Enter the operator (+, -, *, /): ')\n",
    "    if operator == \"+\":\n",
    "        return num1+num2\n",
    "    \n",
    "    elif operator == \"-\":\n",
    "        return num1-num2\n",
    "    \n",
    "    elif operator == \"*\":\n",
    "        return num1*num2\n",
    "    \n",
    "    elif operator == \"/\":\n",
    "        if num2 != 0:\n",
    "            return num1/num2\n",
    "        else:\n",
    "            return 'Error'\n",
    "    \n",
    "    else : \n",
    "        return 'Error'"
   ]
  },
  {
   "cell_type": "code",
   "execution_count": null,
   "id": "0e48e7dd-4016-4819-9834-f26fd752a8a0",
   "metadata": {},
   "outputs": [],
   "source": [
    "num1=int(input(\"Enter the first number:\"))\n",
    "num2=int(input(\"Enter the second number:\"))\n",
    "calculator(num1,num2)"
   ]
  },
  {
   "cell_type": "raw",
   "id": "edd14de6-85d7-4960-aa4b-52ab41ce2661",
   "metadata": {},
   "source": [
    "Description: \n",
    "\n",
    "In this exercise, you will create a program that calculates the grades of students using Numpy arrays. The program will ask the user to enter the number of students, the number of subjects, and the marks of each student in each subject. It will then calculate the total marks, percentage, and grade for each student using Numpy arrays. The program will display the result for each student in a tabular format.\n",
    "\n",
    "Instructions:\n",
    "\n",
    "Import the Numpy library.\n",
    "Ask the user to enter the number of students and the number of subjects.\n",
    "Create a Numpy array to store the marks of each student in each subject. The array should have the shape (number of students, number of subjects).\n",
    "Ask the user to enter the marks of each student in each subject.\n",
    "Calculate the total marks for each student using the sum() function of Numpy.\n",
    "Calculate the percentage for each student using the total marks and the formula: percentage = (total marks / (number of subjects * 100)) * 100\n",
    "Calculate the grade for each student using the percentage and the following grading system:\n",
    "90% or above: A+\n",
    "80% or above: A\n",
    "70% or above: B+\n",
    "60% or above: B\n",
    "50% or above: C\n",
    "below 50%: F\n",
    "Display the result for each student in a tabular format with columns for student name, total marks, percentage, and grade."
   ]
  },
  {
   "cell_type": "code",
   "execution_count": null,
   "id": "e283e633-6fdf-4814-ab90-2f3095ad2893",
   "metadata": {},
   "outputs": [],
   "source": [
    "n=int(input(\"enter number of students : \"))\n",
    "sub=int(input(\"enter number of subjects : \"))\n",
    "marks = np.zeros((n,sub))\n",
    "for i in range(n):\n",
    "    print(f\"\\nEntering marks for student {i + 1}:\")\n",
    "    for j in range(sub):\n",
    "        marks[i, j] = float(input(f\"Enter the marks for subject {j + 1}: \"))"
   ]
  },
  {
   "cell_type": "code",
   "execution_count": null,
   "id": "5100e90d-2513-489e-8a11-dbbd147213e7",
   "metadata": {},
   "outputs": [],
   "source": [
    "for i in range(n):\n",
    "   print(marks[i])"
   ]
  },
  {
   "cell_type": "code",
   "execution_count": null,
   "id": "46e692d2-40b9-4f64-b37d-927a8d208f00",
   "metadata": {},
   "outputs": [],
   "source": [
    "total_1=[]\n",
    "for i in range(n):\n",
    "    total= np.sum(marks[i]) \n",
    "    print(total)\n",
    "    total_1.append(total)\n",
    "print (total_1)"
   ]
  },
  {
   "cell_type": "code",
   "execution_count": null,
   "id": "ed67fa39-e293-4f38-be22-6fb194f79cc0",
   "metadata": {},
   "outputs": [],
   "source": [
    "percentage_1=[]\n",
    "for i in range(n):\n",
    "       percentage= (total_1[i] / (sub * 100)) * 100\n",
    "       print(percentage,\"%\")\n",
    "       percentage_1.append(percentage)\n",
    "print(percentage_1)"
   ]
  },
  {
   "cell_type": "markdown",
   "id": "2ebc1524-3afd-458d-a00a-3f9800c0c2ad",
   "metadata": {},
   "source": [
    "#### Calculate the grade for each student using the percentage and the following grading system:"
   ]
  },
  {
   "cell_type": "code",
   "execution_count": null,
   "id": "9c5cdcb2-3165-461a-a898-bb4aefe78aaa",
   "metadata": {},
   "outputs": [],
   "source": [
    "grades=[]\n",
    "for i in range(n):\n",
    "    if percentage_1[i] >= 90:\n",
    "        print(f\"the grade for student {i+1} is A+\")\n",
    "        grades.append(\"A+\")\n",
    "    elif percentage_1[i] >= 80:\n",
    "        print(f\"the grade for student {i+1} is A\")\n",
    "        grades.append(\"A\")\n",
    "    elif percentage_1[i] >= 70:\n",
    "        print(f\"the grade for student {i+1} is B+\")\n",
    "        grades.append(\"B+\")\n",
    "    elif percentage_1[i] >= 60:\n",
    "        print(f\"the grade for student {i+1} is B\")\n",
    "        grades.append(\"B\")\n",
    "    elif percentage_1[i] >= 50:\n",
    "        print(f\"the grade for student {i+1} is C\")\n",
    "        grades.append(\"C\")\n",
    "    else:\n",
    "        print(f\"the grade for student {i+1} is F\")\n",
    "        grades.append(\"F\")\n",
    "print(grades)"
   ]
  },
  {
   "cell_type": "markdown",
   "id": "d1e5cdee-38a2-4401-8a6f-3eed12843677",
   "metadata": {},
   "source": [
    "#### Display the result for each student in a tabular format with columns for student name, total marks, percentage, and grade."
   ]
  },
  {
   "cell_type": "code",
   "execution_count": null,
   "id": "5d43824c-c6b5-4cfb-adbd-6c2bd0764dd1",
   "metadata": {},
   "outputs": [],
   "source": [
    "final_result = []\n",
    "for i in range(n):\n",
    "    final_result.append([marks[i], total_1[i], percentage_1[i], grades[i]])\n",
    "print(final_result)"
   ]
  },
  {
   "cell_type": "code",
   "execution_count": null,
   "id": "78f53baa-db49-46d9-854a-a854ce57e454",
   "metadata": {},
   "outputs": [],
   "source": [
    "import pandas as pd \n",
    "df = pd.DataFrame(final_result ,columns =['marks', 'total', 'percentage', 'grades'] , index=['student 1', 'student 2'] )\n",
    "print(df)"
   ]
  },
  {
   "cell_type": "code",
   "execution_count": null,
   "id": "8a1ec395-f9b9-4da2-8e54-d75c354cea00",
   "metadata": {},
   "outputs": [],
   "source": [
    "pd.read_csv(r\"C:\\Users\\PC\\Downloads\\student note.csv\")"
   ]
  },
  {
   "cell_type": "raw",
   "id": "94bbc2f8-fbdb-4ee2-bce2-29c35969d983",
   "metadata": {},
   "source": [
    "Instructions\n",
    "\n",
    "1 /  Write a Python class named Point3D defined by x, y, and z. Define a method that returns (x, y ,z). This tells Python to represent this object in the following format: (x, y, z).\n",
    "Then create a variable named my_point containing a new instance of Point3D with x=1, y=2, and z=3 and print it.\n",
    "2 / Write a Python class named Rectangle constructed by a length and width.\n",
    "Define two methods, area and perimeter, which will compute the area and the perimeter of the rectangle.\n",
    "Then create a variable named my_rectangle containing a new instance of Rectangle with width=3 and length = 4 and compute both area and perimeter ( the area is expected to be 3*4=12 and perimeter 2*(3+4)=14).\n",
    "3 / Write a Python  class named Circle constructed by its center O and radius r. Define two methods, area and perimeter, which will compute the area and the perimeter of the circle, and is Inside() method which allows you to test whether a point A(x, y) belongs to the circle C(O, r) or not.\n",
    "4 / Suppose we want to model a bank account with support for deposit and withdraw operations.\n",
    "Let’s create a Python class named Bank defined by its balance. Define two methods, deposit and withdraw, to compute the new amount of each operation."
   ]
  },
  {
   "cell_type": "code",
   "execution_count": null,
   "id": "1084dee7-edaf-46d0-bd99-fcb44f2f195d",
   "metadata": {},
   "outputs": [],
   "source": [
    "class Point3D :\n",
    "    def __init__ (self,x,y,z) :\n",
    "        self.x=x\n",
    "        self.y=y\n",
    "        self.z=z \n",
    "    def format_3D (self) :\n",
    "        return f\"({self.x}, {self.y}, {self.z})\""
   ]
  },
  {
   "cell_type": "code",
   "execution_count": null,
   "id": "07f61319-ab3f-4d84-91db-355c88d798ec",
   "metadata": {},
   "outputs": [],
   "source": [
    "my_point = Point3D( x=1 , y=2 , z=3 )\n",
    "print(my_point.format_3D())"
   ]
  },
  {
   "cell_type": "code",
   "execution_count": null,
   "id": "47d81268-c2bd-484a-8247-33d4b4f6f2ae",
   "metadata": {},
   "outputs": [],
   "source": [
    "class Rectangle : \n",
    "    def __init__(self,length,width ) :\n",
    "        self.length = length\n",
    "        self.width=width\n",
    "    def area (self): \n",
    "        return self.length*self.width\n",
    "    def perimeter(self): \n",
    "        return 2*(self.length+self.width)"
   ]
  },
  {
   "cell_type": "code",
   "execution_count": null,
   "id": "6286b161-6444-4b6b-b373-a864a2e1cb8b",
   "metadata": {},
   "outputs": [],
   "source": [
    "my_rectangle = Rectangle (length =4 ,width =3 )\n",
    "print( my_rectangle.area() )\n",
    "print( my_rectangle.perimeter() )"
   ]
  },
  {
   "cell_type": "markdown",
   "id": "d8fbfe21-a59d-455c-b5c2-fd9b2efc43fe",
   "metadata": {},
   "source": [
    "3/"
   ]
  },
  {
   "cell_type": "code",
   "execution_count": null,
   "id": "6d07d4a8-b350-44f5-9e15-061690a262f0",
   "metadata": {},
   "outputs": [],
   "source": [
    "import math\n",
    "class Circle () : \n",
    "    def __init__ (self,center,radius) :\n",
    "        self.center = center\n",
    "        self.radius = radius\n",
    "    def area (self): \n",
    "        return math.pi*(self.radius **2)\n",
    "    def perimeter(self):\n",
    "        return 2*math.pi*self.radius \n",
    "    def is_inside(self, point):\n",
    "        distance = math.sqrt((point[0] - self.center[0]) ** 2 + (point[1] - self.center[1]) ** 2)\n",
    "        if distance<= self.radius :\n",
    "             return True\n",
    "        else: \n",
    "             return False"
   ]
  },
  {
   "cell_type": "code",
   "execution_count": null,
   "id": "7f1ab8a6-d1da-42e1-87d3-34540cc836c9",
   "metadata": {},
   "outputs": [],
   "source": [
    "my_circle = Circle (center=(0,0) ,radius=3 )\n",
    "print(my_circle.area())\n",
    "print(my_circle.perimeter())\n",
    "print(my_circle.is_inside((1,2)))"
   ]
  },
  {
   "cell_type": "markdown",
   "id": "0a704ff4-2436-49e5-b46b-401a0a69dbda",
   "metadata": {},
   "source": [
    "4/"
   ]
  },
  {
   "cell_type": "code",
   "execution_count": null,
   "id": "2c15554d-6764-4d85-9bdd-a893eb4f0fcd",
   "metadata": {},
   "outputs": [],
   "source": [
    " class Bank : \n",
    "     def __init__ (self, balance) :\n",
    "         self.balance = balance\n",
    "     def deposit (self, montante) : \n",
    "         self.balance += montante \n",
    "         print(f\"you just Deposited: {montante}\")\n",
    "     def withdraw (self, montante) : \n",
    "         if montante <= self.balance : \n",
    "             self.balance -= montante\n",
    "             print(f\"the montante Withdrew is  : {montante}\")\n",
    "         else : \n",
    "             print (\" the amount does not exist in the your bank \") \n",
    "     def new_amount (self) :\n",
    "         return self.balance\n",
    "             "
   ]
  },
  {
   "cell_type": "code",
   "execution_count": null,
   "id": "977e3dac-b88a-4ea2-add6-261f414ec781",
   "metadata": {},
   "outputs": [],
   "source": [
    "my_bank=Bank ( 1000) \n",
    "print(my_bank.balance)\n",
    "print(my_bank.deposit(500))\n",
    "print(my_bank.withdraw(200))\n",
    "print(my_bank.new_amount())"
   ]
  },
  {
   "cell_type": "code",
   "execution_count": null,
   "id": "159c7c19-e2c8-4229-8f76-a8d18d27430b",
   "metadata": {},
   "outputs": [],
   "source": [
    "import pandas as pd\n",
    "import numpy as np \n"
   ]
  },
  {
   "cell_type": "code",
   "execution_count": null,
   "id": "b0af625b-6b3c-4faf-88c4-ab9936458f83",
   "metadata": {},
   "outputs": [],
   "source": [
    "exam_data = {'name': ['Anastasia', 'Dima', 'Katherine', 'James', 'Emily', 'Michael', 'Matthew', 'Laura', 'Kevin', 'Jonas'],\n",
    "\n",
    "'score': [12.5, 9, 16.5, np.nan, 9, 20, 14.5, np.nan, 8, 19],\n",
    "\n",
    "'attempts': [1, 3, 2, 3, 2, 3, 1, 1, 2, 1],\n",
    "\n",
    "'qualify': ['yes', 'no', 'yes', 'no', 'no', 'yes', 'yes', 'no', 'no', 'yes']}\n",
    "\n",
    "labels = ['a', 'b', 'c', 'd', 'e', 'f', 'g', 'h', 'i', 'j']"
   ]
  },
  {
   "cell_type": "code",
   "execution_count": null,
   "id": "e49c113a-ae67-4abf-b0b3-8e218e977fa2",
   "metadata": {},
   "outputs": [],
   "source": [
    "df=pd.DataFrame(exam_data)\n",
    "df"
   ]
  },
  {
   "cell_type": "code",
   "execution_count": null,
   "id": "b18499c6-5422-480c-975d-37194291d6d2",
   "metadata": {},
   "outputs": [],
   "source": []
  },
  {
   "cell_type": "code",
   "execution_count": null,
   "id": "35ca5faa-3f91-4bd7-a445-4e59b073ea3b",
   "metadata": {},
   "outputs": [],
   "source": []
  },
  {
   "cell_type": "code",
   "execution_count": null,
   "id": "377e3a39-1b21-4211-9422-fd637c92f6a1",
   "metadata": {},
   "outputs": [],
   "source": []
  }
 ],
 "metadata": {
  "kernelspec": {
   "display_name": "Python 3 (ipykernel)",
   "language": "python",
   "name": "python3"
  },
  "language_info": {
   "codemirror_mode": {
    "name": "ipython",
    "version": 3
   },
   "file_extension": ".py",
   "mimetype": "text/x-python",
   "name": "python",
   "nbconvert_exporter": "python",
   "pygments_lexer": "ipython3",
   "version": "3.12.4"
  }
 },
 "nbformat": 4,
 "nbformat_minor": 5
}
