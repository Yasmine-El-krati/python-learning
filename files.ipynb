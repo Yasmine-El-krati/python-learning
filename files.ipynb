{
 "cells": [
  {
   "cell_type": "markdown",
   "id": "533533ec-49e0-467c-a4a1-4556882fafbb",
   "metadata": {},
   "source": [
    "### Files\r\n",
    "When we want to read from or write to a file, we have to open it first. When we are done, it has to be closed.\r\n",
    "\r\n"
   ]
  },
  {
   "cell_type": "markdown",
   "id": "3b1a0be5-457e-4769-943a-c3f006308b0d",
   "metadata": {},
   "source": [
    "### Hence, in Python, a file operation takes place in the following order:\n",
    "   #### \r\n",
    "Open a fil\n",
    "e   #### .\r\n",
    "Read or wri\n",
    "t   #### e.\r\n",
    "Close the file."
   ]
  },
  {
   "cell_type": "markdown",
   "id": "a4b6a096-3df6-4e25-88cc-ec280794adcf",
   "metadata": {},
   "source": [
    "### Opening Files in Python\n",
    "Python has a built-in open() function to open a file. his function returns a file object, also called a handle because it is used to read or modify the file."
   ]
  },
  {
   "cell_type": "code",
   "execution_count": null,
   "id": "05131db2-d7b3-4828-b9b4-86298c3df4b3",
   "metadata": {},
   "outputs": [],
   "source": [
    "f = open(\"test.txt\")    # open file in current directory\n",
    "f = open(\"fullpath/test.txt\")  # specifying full path"
   ]
  },
  {
   "cell_type": "markdown",
   "id": "dc016c5a-f63d-4278-8fa5-f06c49a746e8",
   "metadata": {},
   "source": [
    "### Opening Mode\n",
    "We can specify the mode while opening a file. In mode, we specify whether we want to read r, write to w or append a file.\n",
    "\n",
    "We can also specify if we want to open the file in text mode or binary mode.\n",
    "The default is reading in text mode. In this mode, we get strings when reading from the file.\n",
    "When dealing with non-text files like images or executable files, binary mode is best because it returns bytes."
   ]
  },
  {
   "cell_type": "raw",
   "id": "77b4806f-d06a-411d-8281-9327b04957d6",
   "metadata": {},
   "source": [
    "\n",
    "Mode\tDescription\n",
    "r\tOpens a file for reading\n",
    "w\tOpens a file for writing. Creates a new file if it does not exist or truncates the file if it exists.\n",
    "x\tOpens a file for exclusive creation. If the file already exists, the operation fails.\n",
    "a\tOpens a file for appending at the end of the file without truncating it.\n",
    "t\tOpens in text mode\n",
    "b\tOpens in binary mode.\n",
    "+\tOpens a file for updating"
   ]
  },
  {
   "cell_type": "markdown",
   "id": "c1775535-6a5e-4a5e-93cb-e8c00071ac88",
   "metadata": {},
   "source": [
    "### Reading Files\n",
    "To read a file in Python, we must open the file in reading r mode.\n",
    "\n",
    "There are various methods available for this purpose. We can use the read(size) method to read the size of a number. If the size parameter is not specified, it reads and returns the whole file.\n",
    "\n",
    "We can read the text.txt file we wrote in the above section in the following way:"
   ]
  },
  {
   "cell_type": "code",
   "execution_count": null,
   "id": "aeb7f251-bac1-4bf2-9478-249563477f97",
   "metadata": {},
   "outputs": [],
   "source": [
    "f = open(\"test.txt\",'r',encoding = 'utf-8')\n",
    "f.read(4)    # read the first 4 data\n",
    "f.read(4)    # read the next 4 data\n",
    "f.read()     # read in the rest till end of file\n",
    "f.read()  # further reading returns empty sting"
   ]
  },
  {
   "cell_type": "markdown",
   "id": "15ee2702-e5dc-4781-8da7-85e3c416cc6a",
   "metadata": {},
   "source": [
    "We can see that the read() method returns a newline as '\\n'. Once the end of the file is reached, we get an empty string on further reading."
   ]
  },
  {
   "cell_type": "markdown",
   "id": "6d8da33d-5552-409f-a34b-073d47454d5b",
   "metadata": {},
   "source": [
    "### Reading Files Line by Line\n",
    "We can read a file line by line using a for loop. This is both efficient and fast."
   ]
  },
  {
   "cell_type": "code",
   "execution_count": null,
   "id": "42094659-7a01-45e1-a136-3fe860ab69ea",
   "metadata": {},
   "outputs": [],
   "source": [
    "for line in f:\n",
    "       print(line, end = '')"
   ]
  },
  {
   "cell_type": "markdown",
   "id": "98bdadd8-a757-4771-8f2a-2eb014eab914",
   "metadata": {},
   "source": [
    "### Files readlines() and readline()\n",
    "The readlines() method returns all lines in the file."
   ]
  },
  {
   "cell_type": "code",
   "execution_count": null,
   "id": "dd822b79-5abd-4bba-8d3b-a97a4cb1f78c",
   "metadata": {},
   "outputs": [],
   "source": [
    "print(f.readlines())"
   ]
  },
  {
   "cell_type": "markdown",
   "id": "561a225e-9890-460c-ab6d-f1300a702880",
   "metadata": {},
   "source": [
    "The readline() method reads the first line of the file."
   ]
  },
  {
   "cell_type": "code",
   "execution_count": null,
   "id": "d2f84e6e-d824-4060-a35d-0061f6c4646c",
   "metadata": {},
   "outputs": [],
   "source": [
    "print(f.readline())"
   ]
  },
  {
   "cell_type": "markdown",
   "id": "bc20e09f-dbdc-42e0-8803-dfcc5d9c9e40",
   "metadata": {},
   "source": [
    "## Writing Files\n",
    "In order to write into a file in Python, we need to open it in write w, append a or exclusive creation x mode.\n",
    "\n",
    "Be careful with the w mode because it will overwrite into the file if it already exists and all the previous data is erased.\n",
    "\n",
    "Writing a string or sequence of bytes (for binary files) is done using the write() method. This method returns the number of characters written to the file."
   ]
  },
  {
   "cell_type": "code",
   "execution_count": null,
   "id": "70126b1e-44a1-495b-8305-ece291f6ada5",
   "metadata": {},
   "outputs": [],
   "source": [
    "with open(\"test.txt\",'w',encoding = 'utf-8') as f:\n",
    "   f.write(\"my first file\\n\")\n",
    "   f.write(\"This file\\n\\n\")\n",
    "   f.write(\"contains three lines\\n\")"
   ]
  },
  {
   "cell_type": "markdown",
   "id": "560e609a-cee2-421b-b01e-1b97ade7d0ed",
   "metadata": {},
   "source": [
    "This program will create a new file named test.txt in the current directory if it does not exist."
   ]
  },
  {
   "cell_type": "markdown",
   "id": "441c9c9c-dd2f-4a1b-b0cf-d70bbb0538f7",
   "metadata": {},
   "source": [
    "## Deleting Files:\n",
    "To delete a file you must import the OS module and run its os.remove() function:"
   ]
  },
  {
   "cell_type": "code",
   "execution_count": null,
   "id": "9c2d3244-9235-4bd2-a364-374d5f1be956",
   "metadata": {},
   "outputs": [],
   "source": [
    "import os\n",
    "os.remove(\"test.txt\")"
   ]
  },
  {
   "cell_type": "markdown",
   "id": "2ee8eb67-2911-4e65-9783-acca8389e0d4",
   "metadata": {},
   "source": [
    "## Closing Files\r\n",
    "When you are done with performing operations on the file, you have to properly close the file.\r\n",
    "\r\n",
    "Closing a file will free up the resources that were tied up while it was open. This is done using the close() method available in Python.\r\n",
    "\r\n",
    "Python has a garbage collector to clean up unreferenced objects but you should not rely on it to close the file."
   ]
  },
  {
   "cell_type": "code",
   "execution_count": null,
   "id": "792636f0-be86-4cdd-a690-b5508770f615",
   "metadata": {},
   "outputs": [],
   "source": [
    "f = open(\"test.txt\", encoding = 'utf-8')\n",
    "# perform file operations\n",
    "f.close()"
   ]
  },
  {
   "cell_type": "code",
   "execution_count": null,
   "id": "f9ff649e-615a-4956-bf3c-26b8037a7bf6",
   "metadata": {},
   "outputs": [],
   "source": []
  },
  {
   "cell_type": "code",
   "execution_count": null,
   "id": "c2d47236-42bf-4f90-b079-a0c66b3499a8",
   "metadata": {},
   "outputs": [],
   "source": []
  },
  {
   "cell_type": "code",
   "execution_count": 10,
   "id": "1b535b68-a52e-43d1-bea6-0ede2c200e4c",
   "metadata": {},
   "outputs": [
    {
     "data": {
      "text/plain": [
       "<_io.TextIOWrapper name='python.txt' mode='r' encoding='cp1252'>"
      ]
     },
     "execution_count": 10,
     "metadata": {},
     "output_type": "execute_result"
    }
   ],
   "source": [
    "f = open(\"python.txt\") \n",
    "f"
   ]
  },
  {
   "cell_type": "code",
   "execution_count": 2,
   "id": "0232b871-ccdc-41ae-ae9d-6630ec21f114",
   "metadata": {},
   "outputs": [
    {
     "data": {
      "text/plain": [
       "_io.TextIOWrapper"
      ]
     },
     "execution_count": 2,
     "metadata": {},
     "output_type": "execute_result"
    }
   ],
   "source": [
    "type(f)"
   ]
  },
  {
   "cell_type": "code",
   "execution_count": 4,
   "id": "90818156-de64-4491-993b-035b04612ac9",
   "metadata": {},
   "outputs": [
    {
     "data": {
      "text/plain": [
       "'hello'"
      ]
     },
     "execution_count": 4,
     "metadata": {},
     "output_type": "execute_result"
    }
   ],
   "source": [
    "f.read()\n"
   ]
  },
  {
   "cell_type": "code",
   "execution_count": 33,
   "id": "2b42f0be-5e46-4776-b562-26e1e939bec2",
   "metadata": {},
   "outputs": [],
   "source": [
    "f = open(\"python.txt\",'r',encoding = 'utf-8')\n"
   ]
  },
  {
   "cell_type": "code",
   "execution_count": 21,
   "id": "a7886667-acb8-4a53-8d19-a3f6ba5cdd3b",
   "metadata": {},
   "outputs": [
    {
     "data": {
      "text/plain": [
       "'What'"
      ]
     },
     "execution_count": 21,
     "metadata": {},
     "output_type": "execute_result"
    }
   ],
   "source": [
    "f.read(4)"
   ]
  },
  {
   "cell_type": "code",
   "execution_count": 25,
   "id": "6db16f25-b124-4062-969b-789b3bf7acb3",
   "metadata": {},
   "outputs": [
    {
     "data": {
      "text/plain": [
       "'What is Python language?                                                \\nPython is a widely used high-level, general-purpose, interpreted, dynamic programming language.Its design philosophy emphasizes code readability, and its syntax allows programmers to express concepts in fewer lines of code than possible in \\nlanguages such as C++ or Java. \\nPython supports multiple programming paradigms, including object-oriented, imperative and functional programming or procedural styles. It features a dynamic type system and automatic memory management and has a large and comprehensive standard library.The best way we learn anything is by practice and exercise questions. We  have started this section for those (beginner to intermediate) who are familiar with Python.'"
      ]
     },
     "execution_count": 25,
     "metadata": {},
     "output_type": "execute_result"
    }
   ],
   "source": [
    "  # read the next 4 data\n",
    "f.read()     # read in the rest till end of file\n"
   ]
  },
  {
   "cell_type": "code",
   "execution_count": 29,
   "id": "5188f058-b438-42fb-97e6-503142ca1727",
   "metadata": {},
   "outputs": [
    {
     "name": "stdout",
     "output_type": "stream",
     "text": [
      "What is Python language?                                                \n",
      "Python is a widely used high-level, general-purpose, interpreted, dynamic programming language.Its design philosophy emphasizes code readability, and its syntax allows programmers to express concepts in fewer lines of code than possible in \n",
      "languages such as C++ or Java. \n",
      "Python supports multiple programming paradigms, including object-oriented, imperative and functional programming or procedural styles. It features a dynamic type system and automatic memory management and has a large and comprehensive standard library.The best way we learn anything is by practice and exercise questions. We  have started this section for those (beginner to intermediate) who are familiar with Python."
     ]
    }
   ],
   "source": [
    "for line in f:\n",
    "       print(line, end = '')"
   ]
  },
  {
   "cell_type": "code",
   "execution_count": 32,
   "id": "9e370b60-3266-4cfb-ae1e-2853b6dcd32a",
   "metadata": {},
   "outputs": [
    {
     "name": "stdout",
     "output_type": "stream",
     "text": [
      "['What is Python language?                                                \\n', 'Python is a widely used high-level, general-purpose, interpreted, dynamic programming language.Its design philosophy emphasizes code readability, and its syntax allows programmers to express concepts in fewer lines of code than possible in \\n', 'languages such as C++ or Java. \\n', 'Python supports multiple programming paradigms, including object-oriented, imperative and functional programming or procedural styles. It features a dynamic type system and automatic memory management and has a large and comprehensive standard library.The best way we learn anything is by practice and exercise questions. We  have started this section for those (beginner to intermediate) who are familiar with Python.']\n"
     ]
    }
   ],
   "source": [
    "print(f.readlines())\n"
   ]
  },
  {
   "cell_type": "code",
   "execution_count": 40,
   "id": "69802f3f-b280-4bca-8a4a-0330b9eb365d",
   "metadata": {},
   "outputs": [],
   "source": [
    "with open(\"python.txt\",'a',encoding = 'utf-8') as f:\n",
    "   f.write(\"my first file\\n\")\n",
    "   f.write(\"This file\\n\\n\")\n",
    "   f.write(\"contains three lines\\n\")\n",
    "   f.close()"
   ]
  },
  {
   "cell_type": "code",
   "execution_count": 34,
   "id": "34853c78-379c-4870-be8d-949573cb832f",
   "metadata": {},
   "outputs": [
    {
     "name": "stdout",
     "output_type": "stream",
     "text": [
      "What is Python language?                                                \n",
      "\n"
     ]
    }
   ],
   "source": [
    "print(f.readline())"
   ]
  },
  {
   "cell_type": "code",
   "execution_count": 42,
   "id": "4d7b9af9-41c5-443b-b7e0-58b9f838e2b4",
   "metadata": {},
   "outputs": [
    {
     "ename": "PermissionError",
     "evalue": "[WinError 32] The process cannot access the file because it is being used by another process: 'python.txt'",
     "output_type": "error",
     "traceback": [
      "\u001b[1;31m---------------------------------------------------------------------------\u001b[0m",
      "\u001b[1;31mPermissionError\u001b[0m                           Traceback (most recent call last)",
      "Cell \u001b[1;32mIn[42], line 2\u001b[0m\n\u001b[0;32m      1\u001b[0m \u001b[38;5;28;01mimport\u001b[39;00m \u001b[38;5;21;01mos\u001b[39;00m\n\u001b[1;32m----> 2\u001b[0m os\u001b[38;5;241m.\u001b[39mremove(\u001b[38;5;124m\"\u001b[39m\u001b[38;5;124mpython.txt\u001b[39m\u001b[38;5;124m\"\u001b[39m)\n",
      "\u001b[1;31mPermissionError\u001b[0m: [WinError 32] The process cannot access the file because it is being used by another process: 'python.txt'"
     ]
    }
   ],
   "source": [
    "import os\n",
    "os.remove(\"python.txt\")"
   ]
  },
  {
   "cell_type": "code",
   "execution_count": 43,
   "id": "72c1ffcb-20cc-4fc8-ae00-1d3b6dda8fed",
   "metadata": {},
   "outputs": [],
   "source": [
    "os.mkdir(\"py\") "
   ]
  },
  {
   "cell_type": "code",
   "execution_count": 44,
   "id": "d18acb0f-92d8-478b-8f1e-244740006d9d",
   "metadata": {},
   "outputs": [
    {
     "ename": "PermissionError",
     "evalue": "[WinError 5] Access is denied: 'py'",
     "output_type": "error",
     "traceback": [
      "\u001b[1;31m---------------------------------------------------------------------------\u001b[0m",
      "\u001b[1;31mPermissionError\u001b[0m                           Traceback (most recent call last)",
      "Cell \u001b[1;32mIn[44], line 1\u001b[0m\n\u001b[1;32m----> 1\u001b[0m os\u001b[38;5;241m.\u001b[39mremove(\u001b[38;5;124m\"\u001b[39m\u001b[38;5;124mpy\u001b[39m\u001b[38;5;124m\"\u001b[39m)\n",
      "\u001b[1;31mPermissionError\u001b[0m: [WinError 5] Access is denied: 'py'"
     ]
    }
   ],
   "source": [
    "os.remove(\"py\")"
   ]
  },
  {
   "cell_type": "code",
   "execution_count": 45,
   "id": "3f8dace2-c9f6-40e4-a70a-cfaadf099b79",
   "metadata": {},
   "outputs": [],
   "source": [
    "f = open(\"python.txt\", encoding = 'utf-8')\n",
    "# perform file operations\n",
    "f.close()"
   ]
  },
  {
   "cell_type": "markdown",
   "id": "b14c2512-6e59-4d82-8372-85a0ba624873",
   "metadata": {},
   "source": [
    "### chekpoint"
   ]
  },
  {
   "cell_type": "raw",
   "id": "40e27dd9-3996-40f2-93eb-476f33a82b46",
   "metadata": {},
   "source": [
    "What You're Aiming For\n",
    "\n",
    "1. Write a Python program to read an entire ➡️  text file.\n",
    "\n",
    "2. Write a Python program to read the first n lines of a file.\n",
    "\n",
    "3. Write a Python program to read the last n lines of a file.\n",
    "\n",
    "4. Write a Python program that takes a text file as input and returns the number of words of a given text file.\n",
    "\n",
    "5. (Bonus) Write a Python program to read the last n lines of a file."
   ]
  },
  {
   "cell_type": "markdown",
   "id": "dec12f3d-4e06-46d2-9c63-7fa0810a4b30",
   "metadata": {},
   "source": [
    "#### 1. Write a Python program to read an entire "
   ]
  },
  {
   "cell_type": "code",
   "execution_count": 67,
   "id": "22fab4d3-3372-4f67-9e53-6df6a0608abc",
   "metadata": {},
   "outputs": [],
   "source": [
    "f = open(\"python.txt\",'r')"
   ]
  },
  {
   "cell_type": "markdown",
   "id": "90c682ea-d7ff-465a-998d-9e6c7c35f2ed",
   "metadata": {},
   "source": [
    "#### 2. Write a Python program to read the first n lines of a file."
   ]
  },
  {
   "cell_type": "code",
   "execution_count": 74,
   "id": "7fc14411-1679-4c09-b005-9702af55bc54",
   "metadata": {},
   "outputs": [
    {
     "name": "stdin",
     "output_type": "stream",
     "text": [
      "enter number of line 2\n"
     ]
    },
    {
     "name": "stdout",
     "output_type": "stream",
     "text": [
      "['What is Python language?                                                \\n', 'Python is a widely used high-level, general-purpose, interpreted, dynamic programming language.Its design philosophy emphasizes code readability, and its syntax allows programmers to express concepts in fewer lines of code than possible in \\n']\n"
     ]
    }
   ],
   "source": [
    "with open(\"python.txt\",'r') as f :\n",
    "    n=int(input(\"enter number of line\"))\n",
    "    print(f.readlines()[:n])"
   ]
  },
  {
   "cell_type": "markdown",
   "id": "282bf713-4e2b-4bf6-86a0-2876eb0df446",
   "metadata": {},
   "source": [
    "#### 3. Write a Python program to read the last n lines of a file."
   ]
  },
  {
   "cell_type": "code",
   "execution_count": 70,
   "id": "e2751eec-325b-4757-b986-49ecd16c6264",
   "metadata": {},
   "outputs": [
    {
     "name": "stdin",
     "output_type": "stream",
     "text": [
      "enter number of line 2\n"
     ]
    },
    {
     "name": "stdout",
     "output_type": "stream",
     "text": [
      "['languages such as C++ or Java. \\n', 'Python supports multiple programming paradigms, including object-oriented, imperative and functional programming or procedural styles. It features a dynamic type system and automatic memory management and has a large and comprehensive standard library.The best way we learn anything is by practice and exercise questions. We  have started this section for those (beginner to intermediate) who are familiar with Python.']\n"
     ]
    }
   ],
   "source": [
    "with open(\"python.txt\",'r') as f :\n",
    "    n=int(input(\"enter number of line\"))\n",
    "    print(f.readlines()[-n:])"
   ]
  },
  {
   "cell_type": "markdown",
   "id": "eee37c57-1f95-414a-b394-c21072368b85",
   "metadata": {},
   "source": [
    "#### 4. Write a Python program that takes a text file as input and returns the number of words of a given text file."
   ]
  },
  {
   "cell_type": "code",
   "execution_count": 76,
   "id": "1b27314f-3362-4aa9-bf79-5c284e165f0c",
   "metadata": {},
   "outputs": [
    {
     "name": "stdout",
     "output_type": "stream",
     "text": [
      "['What', 'is', 'Python', 'language?', 'Python', 'is', 'a', 'widely', 'used', 'high-level,', 'general-purpose,', 'interpreted,', 'dynamic', 'programming', 'language.Its', 'design', 'philosophy', 'emphasizes', 'code', 'readability,', 'and', 'its', 'syntax', 'allows', 'programmers', 'to', 'express', 'concepts', 'in', 'fewer', 'lines', 'of', 'code', 'than', 'possible', 'in', 'languages', 'such', 'as', 'C++', 'or', 'Java.', 'Python', 'supports', 'multiple', 'programming', 'paradigms,', 'including', 'object-oriented,', 'imperative', 'and', 'functional', 'programming', 'or', 'procedural', 'styles.', 'It', 'features', 'a', 'dynamic', 'type', 'system', 'and', 'automatic', 'memory', 'management', 'and', 'has', 'a', 'large', 'and', 'comprehensive', 'standard', 'library.The', 'best', 'way', 'we', 'learn', 'anything', 'is', 'by', 'practice', 'and', 'exercise', 'questions.', 'We', 'have', 'started', 'this', 'section', 'for', 'those', '(beginner', 'to', 'intermediate)', 'who', 'are', 'familiar', 'with', 'Python.']\n",
      "100\n"
     ]
    }
   ],
   "source": [
    "with open(\"python.txt\",'r') as f :\n",
    "    text=f.read()\n",
    "    print(text.split())\n",
    "    print(len(text.split()))"
   ]
  },
  {
   "cell_type": "code",
   "execution_count": 77,
   "id": "9350ddfa-b5fb-4a01-990f-8bf3e5d597f3",
   "metadata": {},
   "outputs": [],
   "source": [
    "def get_words_number(filename):\n",
    "    with open(filename ,'r') as f :\n",
    "        text=f.read()\n",
    "        print(text.split())\n",
    "        print(len(text.split()))\n",
    "    "
   ]
  },
  {
   "cell_type": "code",
   "execution_count": 79,
   "id": "f90344dd-d705-4803-a81c-451a23ff3e6f",
   "metadata": {},
   "outputs": [
    {
     "name": "stdout",
     "output_type": "stream",
     "text": [
      "['What', 'is', 'Python', 'language?', 'Python', 'is', 'a', 'widely', 'used', 'high-level,', 'general-purpose,', 'interpreted,', 'dynamic', 'programming', 'language.Its', 'design', 'philosophy', 'emphasizes', 'code', 'readability,', 'and', 'its', 'syntax', 'allows', 'programmers', 'to', 'express', 'concepts', 'in', 'fewer', 'lines', 'of', 'code', 'than', 'possible', 'in', 'languages', 'such', 'as', 'C++', 'or', 'Java.', 'Python', 'supports', 'multiple', 'programming', 'paradigms,', 'including', 'object-oriented,', 'imperative', 'and', 'functional', 'programming', 'or', 'procedural', 'styles.', 'It', 'features', 'a', 'dynamic', 'type', 'system', 'and', 'automatic', 'memory', 'management', 'and', 'has', 'a', 'large', 'and', 'comprehensive', 'standard', 'library.The', 'best', 'way', 'we', 'learn', 'anything', 'is', 'by', 'practice', 'and', 'exercise', 'questions.', 'We', 'have', 'started', 'this', 'section', 'for', 'those', '(beginner', 'to', 'intermediate)', 'who', 'are', 'familiar', 'with', 'Python.']\n",
      "100\n"
     ]
    }
   ],
   "source": [
    "get_words_number(filename=\"python.txt\")\n"
   ]
  },
  {
   "cell_type": "code",
   "execution_count": null,
   "id": "14f64a24-84d6-494f-92f3-1e264fd014c5",
   "metadata": {},
   "outputs": [],
   "source": []
  },
  {
   "cell_type": "code",
   "execution_count": null,
   "id": "af06143d-3d4c-4547-822c-a72d19586d40",
   "metadata": {},
   "outputs": [],
   "source": []
  }
 ],
 "metadata": {
  "kernelspec": {
   "display_name": "Python 3 (ipykernel)",
   "language": "python",
   "name": "python3"
  },
  "language_info": {
   "codemirror_mode": {
    "name": "ipython",
    "version": 3
   },
   "file_extension": ".py",
   "mimetype": "text/x-python",
   "name": "python",
   "nbconvert_exporter": "python",
   "pygments_lexer": "ipython3",
   "version": "3.12.4"
  }
 },
 "nbformat": 4,
 "nbformat_minor": 5
}
