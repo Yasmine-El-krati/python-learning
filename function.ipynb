{
 "cells": [
  {
   "cell_type": "markdown",
   "id": "e344ed35-1e52-4a61-acf6-b01ed660e7cd",
   "metadata": {},
   "source": [
    "Create a Function"
   ]
  },
  {
   "cell_type": "code",
   "execution_count": 6,
   "id": "982c6aa6-1a3b-4702-8130-594713978655",
   "metadata": {},
   "outputs": [
    {
     "name": "stdout",
     "output_type": "stream",
     "text": [
      "Hello World, this is my first function\n"
     ]
    }
   ],
   "source": [
    "def hello():\n",
    "     print(\"Hello World, this is my first function\")\n",
    "hello()"
   ]
  },
  {
   "cell_type": "markdown",
   "id": "90489c00-fe62-4977-abb8-272712fe27e3",
   "metadata": {},
   "source": [
    "Function Parameters"
   ]
  },
  {
   "cell_type": "code",
   "execution_count": 7,
   "id": "2a541192-ee5a-49f2-99f7-30b921211548",
   "metadata": {},
   "outputs": [
    {
     "name": "stdout",
     "output_type": "stream",
     "text": [
      "I want to learn to code!\n",
      "I want to learn to do AI!\n"
     ]
    }
   ],
   "source": [
    "def my_function(parameter):\n",
    "    print(\"I want to learn \"+parameter)\n",
    "my_function(\"to code!\")  \n",
    "my_function(\"to do AI!\")"
   ]
  },
  {
   "cell_type": "code",
   "execution_count": 18,
   "id": "72d5fd9d-2e7e-4ab4-8bfa-0cfed60d4ac5",
   "metadata": {},
   "outputs": [
    {
     "name": "stdout",
     "output_type": "stream",
     "text": [
      "4\n"
     ]
    }
   ],
   "source": [
    "def length(liste):\n",
    "      s =0 \n",
    "      for i in liste :\n",
    "          s+=1 \n",
    "      return(s)\n",
    "a = [1,2,3,4]\n",
    "print(length(a))"
   ]
  },
  {
   "cell_type": "code",
   "execution_count": 19,
   "id": "57fa2fb2-7395-415f-b11e-08e3f3f67664",
   "metadata": {},
   "outputs": [
    {
     "name": "stdout",
     "output_type": "stream",
     "text": [
      "2\n"
     ]
    }
   ],
   "source": [
    "b = [1,2]\n",
    "print(length(b))"
   ]
  },
  {
   "cell_type": "code",
   "execution_count": null,
   "id": "b48e8e59-8ef3-4cf8-9783-7b95ba20e241",
   "metadata": {},
   "outputs": [],
   "source": []
  },
  {
   "cell_type": "code",
   "execution_count": 20,
   "id": "c623ec88-ebf8-4aba-94b6-f04c8d643791",
   "metadata": {},
   "outputs": [
    {
     "name": "stdout",
     "output_type": "stream",
     "text": [
      "16\n",
      "21\n"
     ]
    }
   ],
   "source": [
    "def operation(x,y,z):\n",
    "      print((x+y)*z)\n",
    "operation(5,3,2) \n",
    "operation(5,2,3)"
   ]
  },
  {
   "cell_type": "code",
   "execution_count": 22,
   "id": "26b87aea-8dfa-4e19-ad71-b87e5071780c",
   "metadata": {},
   "outputs": [
    {
     "name": "stdout",
     "output_type": "stream",
     "text": [
      "100\n"
     ]
    }
   ],
   "source": [
    "def multiple(x) :\n",
    "    print(x**2)\n",
    "multiple(10)"
   ]
  },
  {
   "cell_type": "markdown",
   "id": "cf71fb1a-081c-4afb-a5fc-db90e8130068",
   "metadata": {},
   "source": [
    "Functions with a Default Parameter"
   ]
  },
  {
   "cell_type": "code",
   "execution_count": 23,
   "id": "c1542178-6625-4740-af6d-fc45cf436447",
   "metadata": {},
   "outputs": [
    {
     "name": "stdout",
     "output_type": "stream",
     "text": [
      "I am from Maroc\n",
      "I am from Algeria\n",
      "I am from Tunisia\n"
     ]
    }
   ],
   "source": [
    "def my_function(country=\"Tunisia\"):\n",
    "    print(\"I am from \"+country)\n",
    "my_function(\"Maroc\")\n",
    "my_function(\"Algeria\")\n",
    "my_function()"
   ]
  },
  {
   "cell_type": "markdown",
   "id": "5aee0243-d251-408f-8703-e7a094bb4580",
   "metadata": {},
   "source": [
    "The Return Statement"
   ]
  },
  {
   "cell_type": "code",
   "execution_count": 31,
   "id": "ab055657-537e-42a5-b104-bfbc3bd409ef",
   "metadata": {},
   "outputs": [
    {
     "data": {
      "text/plain": [
       "2"
      ]
     },
     "execution_count": 31,
     "metadata": {},
     "output_type": "execute_result"
    }
   ],
   "source": [
    "def minimum(a,b):\n",
    "    if a<b:\n",
    "       return(a)\n",
    "    else:\n",
    "       return(b)\n",
    "minimum(10,2) "
   ]
  },
  {
   "cell_type": "code",
   "execution_count": 34,
   "id": "e2bad34b-6b2f-49d9-9186-e80444ab4d12",
   "metadata": {},
   "outputs": [
    {
     "data": {
      "text/plain": [
       "10"
      ]
     },
     "execution_count": 34,
     "metadata": {},
     "output_type": "execute_result"
    }
   ],
   "source": [
    "def max(a,b):\n",
    "    if a<b:\n",
    "       return(b)\n",
    "    else:\n",
    "       return(a)\n",
    "max(10,2) "
   ]
  },
  {
   "cell_type": "code",
   "execution_count": 36,
   "id": "82be1b3e-6c15-4ed0-b5a8-495e39111dd9",
   "metadata": {},
   "outputs": [
    {
     "data": {
      "text/plain": [
       "8"
      ]
     },
     "execution_count": 36,
     "metadata": {},
     "output_type": "execute_result"
    }
   ],
   "source": [
    "def add(x, y):\n",
    "    total = x + y\n",
    "    return total\n",
    "add(2,6) "
   ]
  },
  {
   "cell_type": "code",
   "execution_count": 39,
   "id": "530831e1-d231-474b-9fcb-54fa75bf3bed",
   "metadata": {},
   "outputs": [
    {
     "data": {
      "text/plain": [
       "'odd'"
      ]
     },
     "execution_count": 39,
     "metadata": {},
     "output_type": "execute_result"
    }
   ],
   "source": [
    "def type_of_int(i):\n",
    "    if i % 2 == 0:\n",
    "        return 'even'\n",
    "    else:\n",
    "        return 'odd'\n",
    " \n",
    "type_of_int(7)"
   ]
  },
  {
   "cell_type": "markdown",
   "id": "953c5589-d0de-4050-bf5c-15d156d84536",
   "metadata": {},
   "source": [
    "Lambda Function"
   ]
  },
  {
   "cell_type": "code",
   "execution_count": 40,
   "id": "2290df77-9d6d-44a1-8153-b3b4a189a7eb",
   "metadata": {},
   "outputs": [
    {
     "name": "stdout",
     "output_type": "stream",
     "text": [
      "11\n"
     ]
    }
   ],
   "source": [
    "sum = lambda a,b,c : a+b+c\n",
    "print(sum(2,6,3))"
   ]
  },
  {
   "cell_type": "code",
   "execution_count": 41,
   "id": "866a22cd-6583-4acc-ad2f-62dc980d346b",
   "metadata": {},
   "outputs": [
    {
     "name": "stdout",
     "output_type": "stream",
     "text": [
      "2024\n"
     ]
    }
   ],
   "source": [
    "year = lambda ch : ch[:4]\n",
    "ch = \"20240310\"\n",
    "print(year(ch))"
   ]
  },
  {
   "cell_type": "code",
   "execution_count": 42,
   "id": "44648ab9-091c-4c20-b11f-bae9a07f2d02",
   "metadata": {},
   "outputs": [
    {
     "data": {
      "text/plain": [
       "'Full name: Guido Van Rossum'"
      ]
     },
     "execution_count": 42,
     "metadata": {},
     "output_type": "execute_result"
    }
   ],
   "source": [
    "full_name = lambda first, last: f'Full name: {first.title()} {last.title()}'\n",
    "full_name('guido', 'van rossum')"
   ]
  },
  {
   "cell_type": "code",
   "execution_count": null,
   "id": "163664e6-0049-4c68-ad36-3c3a57c6ef62",
   "metadata": {},
   "outputs": [],
   "source": []
  },
  {
   "cell_type": "code",
   "execution_count": 44,
   "id": "67136528-fee6-4870-8b99-7c7d255228fa",
   "metadata": {},
   "outputs": [
    {
     "name": "stdout",
     "output_type": "stream",
     "text": [
      "[5, 6, 6]\n"
     ]
    }
   ],
   "source": [
    "def myfunc(a):\n",
    "\treturn len(a)\n",
    "fruit=('apple', 'banana', 'cherry')\n",
    "result = map(myfunc,fruit )\n",
    "\n",
    "print(list(result))"
   ]
  },
  {
   "cell_type": "code",
   "execution_count": 52,
   "id": "b9fb40da-ca95-4b87-aed4-dcffcafd16e0",
   "metadata": {},
   "outputs": [
    {
     "name": "stdin",
     "output_type": "stream",
     "text": [
      " enter number of items  3\n",
      "enter the item   1\n",
      "enter the item   2\n",
      "enter the item   3\n"
     ]
    },
    {
     "data": {
      "text/plain": [
       "[1, 2, 3]"
      ]
     },
     "execution_count": 52,
     "metadata": {},
     "output_type": "execute_result"
    }
   ],
   "source": [
    "n=int (input(\" enter number of items \")) \n",
    "i=0 \n",
    "my_list1 = list()\n",
    "for i in range(1,n+1) :\n",
    "   a= int(input(\"enter the item  \" ))\n",
    "   my_list1.append(a)\n",
    "my_list1\n"
   ]
  },
  {
   "cell_type": "code",
   "execution_count": 50,
   "id": "647f7a1c-5296-4aeb-9246-cdffe13a0190",
   "metadata": {},
   "outputs": [
    {
     "name": "stdin",
     "output_type": "stream",
     "text": [
      "enter the item   4\n",
      "enter the item   5\n",
      "enter the item   6\n"
     ]
    },
    {
     "data": {
      "text/plain": [
       "[4, 5, 6]"
      ]
     },
     "execution_count": 50,
     "metadata": {},
     "output_type": "execute_result"
    }
   ],
   "source": [
    "my_list2 = list()\n",
    "for i in range(1,n+1) :\n",
    "   a= int(input(\"enter the item  \" ))\n",
    "   my_list2.append(a)\n",
    "my_list2"
   ]
  },
  {
   "cell_type": "markdown",
   "id": "15d4e5e0-437a-480b-b214-e72b1b41736b",
   "metadata": {},
   "source": [
    "Write a Python program in the form of a function that takes two lists as parameters and returns True if the two lists have at least one common element, and False otherwise."
   ]
  },
  {
   "cell_type": "code",
   "execution_count": 66,
   "id": "afa3c2c4-2d86-4c9d-b770-3a6ee15f3173",
   "metadata": {},
   "outputs": [
    {
     "name": "stdin",
     "output_type": "stream",
     "text": [
      " enter number of items  3\n",
      "enter the item   1\n",
      "enter the item   2\n",
      "enter the item   3\n"
     ]
    },
    {
     "name": "stdout",
     "output_type": "stream",
     "text": [
      "[1, 2, 3]\n"
     ]
    },
    {
     "name": "stdin",
     "output_type": "stream",
     "text": [
      "enter the item   2\n",
      "enter the item   3\n",
      "enter the item   4\n"
     ]
    },
    {
     "name": "stdout",
     "output_type": "stream",
     "text": [
      "[2, 3, 4]\n"
     ]
    },
    {
     "ename": "NameError",
     "evalue": "name 'false' is not defined",
     "output_type": "error",
     "traceback": [
      "\u001b[1;31m---------------------------------------------------------------------------\u001b[0m",
      "\u001b[1;31mNameError\u001b[0m                                 Traceback (most recent call last)",
      "Cell \u001b[1;32mIn[66], line 19\u001b[0m\n\u001b[0;32m     17\u001b[0m     \u001b[38;5;28;01melse\u001b[39;00m : \n\u001b[0;32m     18\u001b[0m        \u001b[38;5;28;01mreturn\u001b[39;00m false\n\u001b[1;32m---> 19\u001b[0m common(my_list1,my_list2)\n",
      "Cell \u001b[1;32mIn[66], line 18\u001b[0m, in \u001b[0;36mcommon\u001b[1;34m(my_list1, my_list2)\u001b[0m\n\u001b[0;32m     16\u001b[0m    \u001b[38;5;28;01mreturn\u001b[39;00m true \n\u001b[0;32m     17\u001b[0m \u001b[38;5;28;01melse\u001b[39;00m : \n\u001b[1;32m---> 18\u001b[0m    \u001b[38;5;28;01mreturn\u001b[39;00m false\n",
      "\u001b[1;31mNameError\u001b[0m: name 'false' is not defined"
     ]
    }
   ],
   "source": [
    "n=int (input(\" enter number of items \")) \n",
    "i=0 \n",
    "my_list1 = list()\n",
    "for i in range(1,n+1) :\n",
    "   a= int(input(\"enter the item  \" ))\n",
    "   my_list1.append(a)\n",
    "print(my_list1)\n",
    "my_list2 = list()\n",
    "for i in range(1,n+1) :\n",
    "   a= int(input(\"enter the item  \" ))\n",
    "   my_list2.append(a)\n",
    "print(my_list2)\n",
    "intersection  = my_list1 and my_list2\n",
    "def common (my_list1,my_list2) : \n",
    "    if intersection== 1 : \n",
    "       return true \n",
    "    else : \n",
    "       return false\n",
    "common(my_list1,my_list2)"
   ]
  },
  {
   "cell_type": "code",
   "execution_count": null,
   "id": "0220a2f0-57b1-416b-94f8-7ebccabd8d28",
   "metadata": {},
   "outputs": [],
   "source": [
    "def common(list1, list2):\n",
    "    counter = 0\n",
    "    for i in list1:\n",
    "        for j in list2:\n",
    "            if i == j:\n",
    "                counter+=1\n",
    "    if counter == 0:\n",
    "        print(\"there no common item between lists\")\n",
    "    else:\n",
    "        print(f\"we have {counter} common item between the lists\")"
   ]
  },
  {
   "cell_type": "markdown",
   "id": "07e49075-077f-4e39-9974-ba90ef184481",
   "metadata": {},
   "source": [
    "checkpoint "
   ]
  },
  {
   "cell_type": "code",
   "execution_count": 86,
   "id": "cdd3405f-b2ca-4255-a790-4316a3679962",
   "metadata": {},
   "outputs": [],
   "source": [
    "def calculator(num1,num2):\n",
    "    operator = input('Enter the operator (+, -, *, /): ')\n",
    "    if operator == \"+\":\n",
    "        return num1+num2\n",
    "    \n",
    "    elif operator == \"-\":\n",
    "        return num1-num2\n",
    "    \n",
    "    elif operator == \"*\":\n",
    "        return num1*num2\n",
    "    \n",
    "    elif operator == \"/\":\n",
    "        if num2 != 0:\n",
    "            return num1/num2\n",
    "        else:\n",
    "            return 'Error'\n",
    "    \n",
    "    else : \n",
    "        return 'Error'"
   ]
  },
  {
   "cell_type": "code",
   "execution_count": 87,
   "id": "8f052ed9-c048-44d6-935d-ce19812ee44b",
   "metadata": {},
   "outputs": [
    {
     "name": "stdin",
     "output_type": "stream",
     "text": [
      "Enter the first number: 12\n",
      "Enter the second number: 3\n",
      "Enter the operator (+, -, *, /):  +\n"
     ]
    },
    {
     "data": {
      "text/plain": [
       "15"
      ]
     },
     "execution_count": 87,
     "metadata": {},
     "output_type": "execute_result"
    }
   ],
   "source": [
    "num1=int(input(\"Enter the first number:\"))\n",
    "num2=int(input(\"Enter the second number:\"))\n",
    "calculator(num1,num2)\n"
   ]
  },
  {
   "cell_type": "code",
   "execution_count": null,
   "id": "ee04ba6e-09a4-4314-95c8-daeb6d4d12ab",
   "metadata": {},
   "outputs": [],
   "source": []
  },
  {
   "cell_type": "code",
   "execution_count": null,
   "id": "d68a763f-2190-4c94-95b9-aadb10fde56d",
   "metadata": {},
   "outputs": [],
   "source": []
  },
  {
   "cell_type": "code",
   "execution_count": null,
   "id": "65151ba9-aeaa-47ea-a068-5542f4cf0f97",
   "metadata": {},
   "outputs": [],
   "source": []
  },
  {
   "cell_type": "code",
   "execution_count": null,
   "id": "f519be66-ec8f-4158-bee0-f505cd8a7f86",
   "metadata": {},
   "outputs": [],
   "source": []
  },
  {
   "cell_type": "code",
   "execution_count": null,
   "id": "1398ec06-d11f-44af-ba94-2b8b9122676e",
   "metadata": {},
   "outputs": [],
   "source": []
  }
 ],
 "metadata": {
  "kernelspec": {
   "display_name": "Python 3 (ipykernel)",
   "language": "python",
   "name": "python3"
  },
  "language_info": {
   "codemirror_mode": {
    "name": "ipython",
    "version": 3
   },
   "file_extension": ".py",
   "mimetype": "text/x-python",
   "name": "python",
   "nbconvert_exporter": "python",
   "pygments_lexer": "ipython3",
   "version": "3.12.4"
  }
 },
 "nbformat": 4,
 "nbformat_minor": 5
}
