{
 "cells": [
  {
   "cell_type": "code",
   "execution_count": 6,
   "id": "65ac1eca-afd1-4552-b22a-bd4b05a0f05e",
   "metadata": {},
   "outputs": [
    {
     "name": "stdout",
     "output_type": "stream",
     "text": [
      "[2 4 6]\n"
     ]
    }
   ],
   "source": [
    "import numpy as np\n",
    "\n",
    "a = np.array([2,4,6])\n",
    "print(a)"
   ]
  },
  {
   "cell_type": "code",
   "execution_count": 4,
   "id": "97ab58b5-2203-438d-9d45-61ca020e983c",
   "metadata": {},
   "outputs": [
    {
     "data": {
      "text/plain": [
       "(3, 2)"
      ]
     },
     "execution_count": 4,
     "metadata": {},
     "output_type": "execute_result"
    }
   ],
   "source": [
    "a = np.array([(1, 2), (3, 4), (5,6)])\n",
    "a.shape"
   ]
  },
  {
   "cell_type": "code",
   "execution_count": 5,
   "id": "210e16b8-7e06-414a-add2-010d84598fb8",
   "metadata": {},
   "outputs": [
    {
     "name": "stdout",
     "output_type": "stream",
     "text": [
      "2\n"
     ]
    }
   ],
   "source": [
    "a = np.array([[0,1,2],[3,4,5],[6,7,8]])\n",
    "print(a[0,2])"
   ]
  },
  {
   "cell_type": "code",
   "execution_count": 7,
   "id": "2150a59a-a091-49e2-93db-5caf3f4dab75",
   "metadata": {},
   "outputs": [
    {
     "name": "stdout",
     "output_type": "stream",
     "text": [
      "[2 4 6]\n",
      "6\n"
     ]
    }
   ],
   "source": [
    "import numpy as np\n",
    "\n",
    "a = np.array([2,4,6])\n",
    "print(a)\n",
    "value = a[2]\n",
    "print(value)"
   ]
  },
  {
   "cell_type": "code",
   "execution_count": 8,
   "id": "5a2c252f-f06d-4917-bb66-a715f1f30545",
   "metadata": {},
   "outputs": [
    {
     "name": "stdout",
     "output_type": "stream",
     "text": [
      "[2 4 6 8]\n",
      "[4 6 8]\n"
     ]
    }
   ],
   "source": [
    "import numpy as np\n",
    "\n",
    "a = np.array([2, 4, 6, 8])\n",
    "print(a)\n",
    "b = a[1:]\n",
    "print(b)"
   ]
  },
  {
   "cell_type": "code",
   "execution_count": 9,
   "id": "30526b55-b18a-4fe6-937b-942b17a71f0e",
   "metadata": {},
   "outputs": [
    {
     "name": "stdout",
     "output_type": "stream",
     "text": [
      "0.39628218478419486\n"
     ]
    }
   ],
   "source": [
    "import numpy as np\n",
    "value=np.random.random()\n",
    "print(value)"
   ]
  },
  {
   "cell_type": "code",
   "execution_count": 10,
   "id": "8d3e4c33-0b78-4d46-9d35-c92f05da91bc",
   "metadata": {},
   "outputs": [
    {
     "name": "stdout",
     "output_type": "stream",
     "text": [
      "[[3.67289722e-02 2.81005164e-06]\n",
      " [5.64557010e-01 7.40702343e-01]]\n"
     ]
    }
   ],
   "source": [
    "import numpy as np\n",
    "array=np.random.random((2,2))\n",
    "print(array)"
   ]
  },
  {
   "cell_type": "markdown",
   "id": "0b10efa9-4440-4a6d-a4ca-6faa40938ec5",
   "metadata": {},
   "source": [
    "NumPy Randint"
   ]
  },
  {
   "cell_type": "code",
   "execution_count": 12,
   "id": "a0c880b3-bdcd-4097-847c-417bbe673976",
   "metadata": {},
   "outputs": [
    {
     "name": "stdout",
     "output_type": "stream",
     "text": [
      "[[3 9 8 3]\n",
      " [4 3 2 9]]\n"
     ]
    }
   ],
   "source": [
    "import numpy as np\n",
    "array=np.random.randint(2, 10, size=(2,4))\n",
    "print(array)"
   ]
  },
  {
   "cell_type": "code",
   "execution_count": 13,
   "id": "9a1605e2-ca50-493b-8d37-6b9af19f0e8f",
   "metadata": {},
   "outputs": [
    {
     "name": "stdout",
     "output_type": "stream",
     "text": [
      "[0. 0. 0.]\n"
     ]
    }
   ],
   "source": [
    "array=np.zeros(3)\n",
    "print(array)"
   ]
  },
  {
   "cell_type": "code",
   "execution_count": 14,
   "id": "3c914fbd-fe4d-49c9-b0b2-689fb124234c",
   "metadata": {},
   "outputs": [
    {
     "name": "stdout",
     "output_type": "stream",
     "text": [
      "[5 5 5]\n"
     ]
    }
   ],
   "source": [
    "array=np.full(3, 5)\n",
    "print(array)"
   ]
  },
  {
   "cell_type": "code",
   "execution_count": 15,
   "id": "ccd6e204-9ad9-4739-934a-c15eb5597afb",
   "metadata": {},
   "outputs": [
    {
     "name": "stdout",
     "output_type": "stream",
     "text": [
      "[[1. 0.]\n",
      " [0. 1.]]\n"
     ]
    }
   ],
   "source": [
    "array=np.eye(2)\n",
    "print(array)"
   ]
  },
  {
   "cell_type": "code",
   "execution_count": 32,
   "id": "95d45ba5-d576-4e9b-a852-81de4d3480ee",
   "metadata": {},
   "outputs": [
    {
     "name": "stdout",
     "output_type": "stream",
     "text": [
      "[[1. 1. 1. 1.]\n",
      " [1. 1. 1. 1.]]\n"
     ]
    },
    {
     "data": {
      "text/plain": [
       "2"
      ]
     },
     "execution_count": 32,
     "metadata": {},
     "output_type": "execute_result"
    }
   ],
   "source": [
    "array=np.ones(shape =(2,4))\n",
    "print(array)\n",
    "array.ndim"
   ]
  },
  {
   "cell_type": "code",
   "execution_count": 27,
   "id": "3023d4df-9b3b-45cc-9bf7-1f6f5c6271e2",
   "metadata": {},
   "outputs": [
    {
     "name": "stdout",
     "output_type": "stream",
     "text": [
      "[[1. 2.]\n",
      " [3. 4.]]\n",
      "[[5. 6.]\n",
      " [7. 8.]]\n",
      "[[-4. -4.]\n",
      " [-4. -4.]]\n"
     ]
    }
   ],
   "source": [
    "import numpy as np\n",
    "x=np.array([[1,2],[3,4]], dtype=np.float64)\n",
    "y=np.array([[5,6],[7,8]], dtype=np.float64)\n",
    "print(x)\n",
    "print(y)\n",
    "Z=np.subtract(x, y)\n",
    "print(Z)"
   ]
  },
  {
   "cell_type": "code",
   "execution_count": 43,
   "id": "9d467779-49dc-47f0-b80c-b1ed1565f63c",
   "metadata": {},
   "outputs": [
    {
     "name": "stdout",
     "output_type": "stream",
     "text": [
      "Sum of all the elements is 21\n"
     ]
    }
   ],
   "source": [
    "import numpy as np\n",
    "\n",
    "array1 = np.array(\n",
    "    [[1, 2],\n",
    "     [3, 4],\n",
    "     [5, 6]])\n",
    "\n",
    "total = np.sum(array1)\n",
    "print(f'Sum of all the elements is {total}')"
   ]
  },
  {
   "cell_type": "raw",
   "id": "26853fc9-dd33-4210-bc12-06ef3b62cd44",
   "metadata": {},
   "source": [
    "Description: \n",
    "\n",
    "In this exercise, you will create a program that calculates the grades of students using Numpy arrays. The program will ask the user to enter the number of students, the number of subjects, and the marks of each student in each subject. It will then calculate the total marks, percentage, and grade for each student using Numpy arrays. The program will display the result for each student in a tabular format.\n",
    "\n",
    "\n",
    "Instructions\n",
    "\n",
    "Instructions:\n",
    "\n",
    "Import the Numpy library.\n",
    "Ask the user to enter the number of students and the number of subjects.\n",
    "Create a Numpy array to store the marks of each student in each subject. The array should have the shape (number of students, number of subjects).\n",
    "Ask the user to enter the marks of each student in each subject.\n",
    "Calculate the total marks for each student using the sum() function of Numpy.\n",
    "Calculate the percentage for each student using the total marks and the formula: percentage = (total marks / (number of subjects * 100)) * 100\n",
    "Calculate the grade for each student using the percentage and the following grading system:\n",
    "90% or above: A+\n",
    "80% or above: A\n",
    "70% or above: B+\n",
    "60% or above: B\n",
    "50% or above: C\n",
    "below 50%: F\n",
    "Display the result for each student in a tabular format with columns for student name, total marks, percentage, and grade."
   ]
  },
  {
   "cell_type": "markdown",
   "id": "bb88b004-e16a-4912-873d-19a80d08463e",
   "metadata": {},
   "source": [
    "### Ask the user to enter the marks of each student in each subject.\n"
   ]
  },
  {
   "cell_type": "code",
   "execution_count": 55,
   "id": "35f76fba-3e0b-4eb0-b183-9e3697e41429",
   "metadata": {},
   "outputs": [
    {
     "name": "stdin",
     "output_type": "stream",
     "text": [
      "enter number of students :  2\n",
      "enter number of subjects :  2\n"
     ]
    },
    {
     "name": "stdout",
     "output_type": "stream",
     "text": [
      "\n",
      "Entering marks for student 1:\n"
     ]
    },
    {
     "name": "stdin",
     "output_type": "stream",
     "text": [
      "Enter the marks for subject 1:  12\n",
      "Enter the marks for subject 2:  13\n"
     ]
    },
    {
     "name": "stdout",
     "output_type": "stream",
     "text": [
      "\n",
      "Entering marks for student 2:\n"
     ]
    },
    {
     "name": "stdin",
     "output_type": "stream",
     "text": [
      "Enter the marks for subject 1:  24\n",
      "Enter the marks for subject 2:  35\n"
     ]
    }
   ],
   "source": [
    "n=int(input(\"enter number of students : \"))\n",
    "sub=int(input(\"enter number of subjects : \"))\n",
    "marks = np.zeros((n,sub))\n",
    "for i in range(n):\n",
    "    print(f\"\\nEntering marks for student {i + 1}:\")\n",
    "    for j in range(sub):\n",
    "        marks[i, j] = float(input(f\"Enter the marks for subject {j + 1}: \"))\n",
    "        "
   ]
  },
  {
   "cell_type": "code",
   "execution_count": 143,
   "id": "74cb8d7e-c531-460f-b1aa-8063d3f5c160",
   "metadata": {},
   "outputs": [
    {
     "name": "stdout",
     "output_type": "stream",
     "text": [
      "[[12. 13.]\n",
      " [24. 35.]]\n"
     ]
    }
   ],
   "source": [
    "print(marks)"
   ]
  },
  {
   "cell_type": "code",
   "execution_count": 82,
   "id": "68455a17-cc28-485c-9528-5f7f8f00141f",
   "metadata": {},
   "outputs": [
    {
     "name": "stdout",
     "output_type": "stream",
     "text": [
      "[12. 13.]\n",
      "[24. 35.]\n"
     ]
    }
   ],
   "source": [
    "for i in range(n):\n",
    "   print(marks[i])"
   ]
  },
  {
   "cell_type": "markdown",
   "id": "e0f8b3a7-3bfd-426d-8f50-ed31234a8113",
   "metadata": {},
   "source": [
    "##### Calculate the total marks for each student using the sum() function of Numpy"
   ]
  },
  {
   "cell_type": "code",
   "execution_count": 118,
   "id": "12849b69-2ded-404e-b6dc-14116bafe452",
   "metadata": {},
   "outputs": [
    {
     "name": "stdout",
     "output_type": "stream",
     "text": [
      "25.0\n",
      "59.0\n",
      "[25.0, 59.0]\n"
     ]
    }
   ],
   "source": [
    "total_1=[]\n",
    "for i in range(n):\n",
    "    total= np.sum(marks[i]) \n",
    "    print(total)\n",
    "    total_1.append(total)\n",
    "print (total_1)"
   ]
  },
  {
   "cell_type": "markdown",
   "id": "f3a89849-0250-428c-87fa-d325483a7235",
   "metadata": {},
   "source": [
    "###### Calculate the percentage for each student using the total marks and the formula: percentage = (total marks / (number of subjects * 100)) * 100"
   ]
  },
  {
   "cell_type": "code",
   "execution_count": 120,
   "id": "08cb494e-4204-4cbc-a142-1709267820bf",
   "metadata": {},
   "outputs": [
    {
     "name": "stdout",
     "output_type": "stream",
     "text": [
      "12.5 %\n",
      "29.5 %\n",
      "[12.5, 29.5]\n"
     ]
    }
   ],
   "source": [
    "percentage_1=[]\n",
    "for i in range(n):\n",
    "       percentage= (total_1[i] / (sub * 100)) * 100\n",
    "       print(percentage,\"%\")\n",
    "       percentage_1.append(percentage)\n",
    "print(percentage_1)\n",
    "\n"
   ]
  },
  {
   "cell_type": "markdown",
   "id": "e597c57e-e82b-4b6e-bbd8-861e9fce90a8",
   "metadata": {},
   "source": [
    "## Calculate the grade for each student using the percentage and the following grading system:\n",
    "90% or above: A+\n",
    "80% or above: A\n",
    "70% or above: B+\n",
    "60% or above: B\n",
    "50% or above: C\n",
    "below 50%: F"
   ]
  },
  {
   "cell_type": "code",
   "execution_count": 140,
   "id": "e76ab782-b17d-4fe9-b3c4-c8526282dbd5",
   "metadata": {},
   "outputs": [
    {
     "name": "stdout",
     "output_type": "stream",
     "text": [
      "the grade for student 1 is F\n",
      "the grade for student 2 is F\n",
      "['F', 'F']\n"
     ]
    }
   ],
   "source": [
    "grades=[]\n",
    "for i in range(n):\n",
    "    if percentage_1[i] >= 90:\n",
    "        print(f\"the grade for student {i+1} is A+\")\n",
    "        grades.append(\"A+\")\n",
    "    elif percentage_1[i] >= 80:\n",
    "        print(f\"the grade for student {i+1} is A\")\n",
    "        grades.append(\"A\")\n",
    "    elif percentage_1[i] >= 70:\n",
    "        print(f\"the grade for student {i+1} is B+\")\n",
    "        grades.append(\"B+\")\n",
    "    elif percentage_1[i] >= 60:\n",
    "        print(f\"the grade for student {i+1} is B\")\n",
    "        grades.append(\"B\")\n",
    "    elif percentage_1[i] >= 50:\n",
    "        print(f\"the grade for student {i+1} is C\")\n",
    "        grades.append(\"C\")\n",
    "    else:\n",
    "        print(f\"the grade for student {i+1} is F\")\n",
    "        grades.append(\"F\")\n",
    "print(grades)"
   ]
  },
  {
   "cell_type": "markdown",
   "id": "105b2ca0-cd3c-4318-9629-8669d0f5c714",
   "metadata": {},
   "source": [
    "### Display the result for each student in a tabular format with columns for student name, total marks, percentage, and grade."
   ]
  },
  {
   "cell_type": "code",
   "execution_count": 141,
   "id": "913f9a81-2e64-4771-a81c-4e0bc05e2b08",
   "metadata": {},
   "outputs": [
    {
     "name": "stdout",
     "output_type": "stream",
     "text": [
      "[[array([12., 13.]), 25.0, 12.5, 'F'], [array([24., 35.]), 59.0, 29.5, 'F']]\n"
     ]
    }
   ],
   "source": [
    "final_result = []\n",
    "for i in range(n):\n",
    "    final_result.append([marks[i], total_1[i], percentage_1[i], grades[i]])\n",
    "print(final_result)"
   ]
  },
  {
   "cell_type": "code",
   "execution_count": 148,
   "id": "5271f54f-3bf0-4fcc-82e1-29fd6220822b",
   "metadata": {},
   "outputs": [
    {
     "name": "stdout",
     "output_type": "stream",
     "text": [
      "                  marks  total  percentage grades\n",
      "student 1  [12.0, 13.0]   25.0        12.5      F\n",
      "student 2  [24.0, 35.0]   59.0        29.5      F\n"
     ]
    }
   ],
   "source": [
    "import pandas as pd \n",
    "df = pd.DataFrame(final_result ,columns =['marks', 'total', 'percentage', 'grades'] , index=['student 1', 'student 2'] )\n",
    "print(df)"
   ]
  },
  {
   "cell_type": "code",
   "execution_count": 151,
   "id": "35719a49-e519-4abb-967c-1b1158f0f2c2",
   "metadata": {},
   "outputs": [
    {
     "data": {
      "text/html": [
       "<div>\n",
       "<style scoped>\n",
       "    .dataframe tbody tr th:only-of-type {\n",
       "        vertical-align: middle;\n",
       "    }\n",
       "\n",
       "    .dataframe tbody tr th {\n",
       "        vertical-align: top;\n",
       "    }\n",
       "\n",
       "    .dataframe thead th {\n",
       "        text-align: right;\n",
       "    }\n",
       "</style>\n",
       "<table border=\"1\" class=\"dataframe\">\n",
       "  <thead>\n",
       "    <tr style=\"text-align: right;\">\n",
       "      <th></th>\n",
       "      <th>Unnamed: 0</th>\n",
       "      <th>marks</th>\n",
       "      <th>total</th>\n",
       "      <th>percentage</th>\n",
       "      <th>grades</th>\n",
       "    </tr>\n",
       "  </thead>\n",
       "  <tbody>\n",
       "    <tr>\n",
       "      <th>0</th>\n",
       "      <td>student 1</td>\n",
       "      <td>[12. 13.]</td>\n",
       "      <td>25.0</td>\n",
       "      <td>12.5</td>\n",
       "      <td>F</td>\n",
       "    </tr>\n",
       "    <tr>\n",
       "      <th>1</th>\n",
       "      <td>student 2</td>\n",
       "      <td>[24. 35.]</td>\n",
       "      <td>59.0</td>\n",
       "      <td>29.5</td>\n",
       "      <td>F</td>\n",
       "    </tr>\n",
       "  </tbody>\n",
       "</table>\n",
       "</div>"
      ],
      "text/plain": [
       "  Unnamed: 0      marks  total  percentage grades\n",
       "0  student 1  [12. 13.]   25.0        12.5      F\n",
       "1  student 2  [24. 35.]   59.0        29.5      F"
      ]
     },
     "execution_count": 151,
     "metadata": {},
     "output_type": "execute_result"
    }
   ],
   "source": [
    "pd.read_csv(r\"C:\\Users\\PC\\Downloads\\student note.csv\")"
   ]
  }
 ],
 "metadata": {
  "kernelspec": {
   "display_name": "Python 3 (ipykernel)",
   "language": "python",
   "name": "python3"
  },
  "language_info": {
   "codemirror_mode": {
    "name": "ipython",
    "version": 3
   },
   "file_extension": ".py",
   "mimetype": "text/x-python",
   "name": "python",
   "nbconvert_exporter": "python",
   "pygments_lexer": "ipython3",
   "version": "3.12.4"
  }
 },
 "nbformat": 4,
 "nbformat_minor": 5
}
