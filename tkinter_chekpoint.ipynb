{
 "cells": [
  {
   "cell_type": "raw",
   "id": "cd64c8d1-b787-4c9d-9fd6-69105e2a8fd0",
   "metadata": {},
   "source": [
    "## Instructions\n",
    "\n",
    "Import the Tkinter module by writing import tkinter as tk at the beginning of your code.\n",
    "Define a function named fahrenheit_to_celsius() that will be called when the conversion button is clicked. This function should convert the entered temperature from Fahrenheit to Celsius and display the result in the label.\n",
    "Create a Tkinter window by writing window = tk.Tk(). Set the title of the window to \"Temperature Converter\" by writing window.title(\"Temperature Converter\").\n",
    "Set the window to a fixed size by writing window.resizable(width=False, height=False).\n",
    "Create a frame to hold the Fahrenheit entry widget and label. Write frm_entry = tk.Frame(master=window) to create the frame.\n",
    "Create an entry widget to accept the temperature in Fahrenheit. Write ent_temperature = tk.Entry(master=frm_entry, width=10) to create the entry widget.\n",
    "Create a label widget to display the degree symbol and the text \"F\". Write lbl_temp = tk.Label(master=frm_entry, text=\"\\N{DEGREE FAHRENHEIT}\") to create the label widget.\n",
    "Use the grid() geometry manager to arrange the entry and label widgets in the frame. Write ent_temperature.grid(row=0, column=0, sticky=\"e\") and lbl_temp.grid(row=0, column=1, sticky=\"w\") to arrange the widgets.\n",
    "Create a button widget to initiate the conversion process. Write btn_convert = tk.Button(master=window, text=\"\\N{RIGHTWARDS BLACK ARROW}\", command=fahrenheit_to_celsius) to create the button widget.\n",
    "Create a label widget to display the result of the conversion in Celsius. Write lbl_result = tk.Label(master=window, text=\"\\N{DEGREE CELSIUS}\") to create the label widget.\n",
    "Use the grid() geometry manager to arrange the frame, button, and result label widgets. Write frm_entry.grid(row=0, column=0, padx=10), btn_convert.grid(row=0, column=1, pady=10), and lbl_result.grid(row=0, column=2, padx=10) to arrange the widgets.\n",
    "Call the mainloop() method of the window object to start the application.\n"
   ]
  },
  {
   "cell_type": "markdown",
   "id": "53831f74-a49c-4173-81fa-4b370276b22f",
   "metadata": {},
   "source": [
    "### 1/Import the Tkinter module by writing import tkinter as tk at the beginning of your code."
   ]
  },
  {
   "cell_type": "code",
   "execution_count": 15,
   "id": "4e777c2f-ef7f-4a8b-b478-fa5a0e45f189",
   "metadata": {},
   "outputs": [
    {
     "ename": "TypeError",
     "evalue": "float() argument must be a string or a real number, not 'Label'",
     "output_type": "error",
     "traceback": [
      "\u001b[1;31m---------------------------------------------------------------------------\u001b[0m",
      "\u001b[1;31mTypeError\u001b[0m                                 Traceback (most recent call last)",
      "Cell \u001b[1;32mIn[15], line 1\u001b[0m\n\u001b[1;32m----> 1\u001b[0m button\u001b[38;5;241m=\u001b[39mButton(root, text\u001b[38;5;241m=\u001b[39m\u001b[38;5;124m\"\u001b[39m\u001b[38;5;124mSubmit\u001b[39m\u001b[38;5;124m\"\u001b[39m,font\u001b[38;5;241m=\u001b[39m\u001b[38;5;241m40\u001b[39m, command\u001b[38;5;241m=\u001b[39mfahrenheit_to_celsius())\n",
      "Cell \u001b[1;32mIn[14], line 7\u001b[0m, in \u001b[0;36mfahrenheit_to_celsius\u001b[1;34m()\u001b[0m\n\u001b[0;32m      5\u001b[0m \u001b[38;5;28;01mdef\u001b[39;00m \u001b[38;5;21mfahrenheit_to_celsius\u001b[39m() : \n\u001b[0;32m      6\u001b[0m     fahrenheit_to_celsius1\u001b[38;5;241m=\u001b[39mLabel( text\u001b[38;5;241m=\u001b[39mentry\u001b[38;5;241m.\u001b[39mget() )\n\u001b[1;32m----> 7\u001b[0m     degre_celsius \u001b[38;5;241m=\u001b[39m (\u001b[38;5;28mfloat\u001b[39m(fahrenheit_to_celsius1) \u001b[38;5;241m-\u001b[39m \u001b[38;5;241m32\u001b[39m) \u001b[38;5;241m*\u001b[39m \u001b[38;5;241m5\u001b[39m \u001b[38;5;241m/\u001b[39m \u001b[38;5;241m9\u001b[39m\n\u001b[0;32m      8\u001b[0m     \u001b[38;5;28mprint\u001b[39m (\u001b[38;5;124mf\u001b[39m\u001b[38;5;124m\"\u001b[39m\u001b[38;5;132;01m{\u001b[39;00mdegre_celsius\u001b[38;5;132;01m}\u001b[39;00m\u001b[38;5;124m \u001b[39m\u001b[38;5;130;01m\\N{DEGREE CELSIUS}\u001b[39;00m\u001b[38;5;124m\"\u001b[39m)\n",
      "\u001b[1;31mTypeError\u001b[0m: float() argument must be a string or a real number, not 'Label'"
     ]
    }
   ],
   "source": [
    "button=Button(root, text=\"Submit\",font=40, command=fahrenheit_to_celsius())"
   ]
  },
  {
   "cell_type": "code",
   "execution_count": 17,
   "id": "5fe0966a-ff6f-4c1f-a3cd-2f9afb0a0815",
   "metadata": {},
   "outputs": [],
   "source": [
    "import tkinter as tk"
   ]
  },
  {
   "cell_type": "markdown",
   "id": "68e1f2bb-a0b9-4c28-87de-bfb9e05ced5b",
   "metadata": {},
   "source": [
    "### 2/Define a function named fahrenheit_to_celsius() that will be called when the conversion button is clicked. This function should convert the entered temperature from Fahrenheit to Celsius and display the result in the label."
   ]
  },
  {
   "cell_type": "code",
   "execution_count": 18,
   "id": "1c9af165-6952-4f9f-a220-668eebfbdf1a",
   "metadata": {},
   "outputs": [],
   "source": [
    "from tkinter import *\n",
    "#entry=Entry(window , width=50) #for typing any text \n",
    "#entry.grid(row=0, column=1)\n",
    "def fahrenheit_to_celsius() : \n",
    "    #fahrenheit_to_celsius1=Label( text=entry.get() )\n",
    "    #fahrenheit_to_celsius1=Label( text=ent_temperature.get() )\n",
    "    fahrenheit_to_celsius1=ent_temperature.get()\n",
    "    degre_celsius = (float(fahrenheit_to_celsius1) - 32) * 5 / 9\n",
    "    print (f\"{degre_celsius} \\N{DEGREE CELSIUS}\")\n",
    "    "
   ]
  },
  {
   "cell_type": "markdown",
   "id": "39d0e6b9-c553-4e4e-a62f-7e4752511fb0",
   "metadata": {},
   "source": [
    "### 3/Create a Tkinter window by writing window = tk.Tk(). Set the title of the window to \"Temperature Converter\" by writing window.title(\"Temperature Converter\")."
   ]
  },
  {
   "cell_type": "code",
   "execution_count": 19,
   "id": "d0971490-a757-4f98-8dae-405e132eb1c9",
   "metadata": {},
   "outputs": [
    {
     "data": {
      "text/plain": [
       "''"
      ]
     },
     "execution_count": 19,
     "metadata": {},
     "output_type": "execute_result"
    }
   ],
   "source": [
    "window=tk.Tk()\n",
    "window.title(\"Temperature Converter\")"
   ]
  },
  {
   "cell_type": "markdown",
   "id": "e85d1791-bacc-4768-8bf7-7727371d319e",
   "metadata": {},
   "source": [
    "### 4/Set the window to a fixed size by writing window.resizable(width=False, height=False)."
   ]
  },
  {
   "cell_type": "code",
   "execution_count": 20,
   "id": "6ae4c51a-97d8-4448-973e-6ac31580197f",
   "metadata": {},
   "outputs": [
    {
     "data": {
      "text/plain": [
       "''"
      ]
     },
     "execution_count": 20,
     "metadata": {},
     "output_type": "execute_result"
    }
   ],
   "source": [
    "window.resizable(width=False, height=False)"
   ]
  },
  {
   "cell_type": "markdown",
   "id": "d9590f4b-c7fd-44b5-b230-8826615a1592",
   "metadata": {},
   "source": [
    "### 5/Create a frame to hold the Fahrenheit entry widget and label. Write frm_entry = tk.Frame(master=window) to create the frame."
   ]
  },
  {
   "cell_type": "code",
   "execution_count": null,
   "id": "fc81abb5-a3c3-4785-a57b-6b31b062d9b9",
   "metadata": {},
   "outputs": [],
   "source": [
    "frm_entry = tk.Frame(master=window)"
   ]
  },
  {
   "cell_type": "markdown",
   "id": "c7d5fd64-6edd-4499-8af6-dfcd2c4fc017",
   "metadata": {},
   "source": [
    "### 6/Create an entry widget to accept the temperature in Fahrenheit. Write ent_temperature = tk.Entry(master=frm_entry, width=10) to create the entry widget."
   ]
  },
  {
   "cell_type": "code",
   "execution_count": null,
   "id": "c1d4e060-2444-43de-8fd1-b0dfd8c4c6a4",
   "metadata": {},
   "outputs": [],
   "source": [
    "ent_temperature= tk.Entry(master=frm_entry, width=10) "
   ]
  },
  {
   "cell_type": "markdown",
   "id": "aad51512-889f-40ab-b42c-645ad6ffa9d5",
   "metadata": {},
   "source": [
    "### 7/Create a label widget to display the degree symbol and the text \"F\". Write lbl_temp = tk.Label(master=frm_entry, text=\"\\N{DEGREE FAHRENHEIT}\") to create the label widget."
   ]
  },
  {
   "cell_type": "code",
   "execution_count": null,
   "id": "7e364d1b-50dc-43d6-ba34-1a4814ad24ed",
   "metadata": {},
   "outputs": [],
   "source": [
    "lbl_temp = tk.Label(master=frm_entry, text=\"\\N{DEGREE FAHRENHEIT}\")"
   ]
  },
  {
   "cell_type": "markdown",
   "id": "5932c531-0a1c-473a-b7bc-e4a56679a53c",
   "metadata": {},
   "source": [
    "### 8/Use the grid() geometry manager to arrange the entry and label widgets in the frame. Write ent_temperature.grid(row=0, column=0, sticky=\"e\") and lbl_temp.grid(row=0, column=1, sticky=\"w\") to arrange the widgets."
   ]
  },
  {
   "cell_type": "code",
   "execution_count": null,
   "id": "2bbda308-95cc-4bb1-b136-c64bc4f888be",
   "metadata": {},
   "outputs": [],
   "source": [
    "ent_temperature.grid(row=0, column=0, sticky=\"e\") \n",
    "lbl_temp.grid(row=0, column=1, sticky=\"w\") "
   ]
  },
  {
   "cell_type": "markdown",
   "id": "e51773d6-f06b-4b4d-a00d-507ca828deba",
   "metadata": {},
   "source": [
    "### 9/Create a button widget to initiate the conversion process. Write btn_convert = tk.Button(master=window, text=\"\\N{RIGHTWARDS BLACK ARROW}\", command=fahrenheit_to_celsius) to create the button widget."
   ]
  },
  {
   "cell_type": "code",
   "execution_count": null,
   "id": "29bd87d5-35ce-4581-aabe-bf5702aaa72e",
   "metadata": {},
   "outputs": [],
   "source": [
    "btn_convert = tk.Button(master=window, text=\"\\N{RIGHTWARDS BLACK ARROW}\", command=fahrenheit_to_celsius) "
   ]
  },
  {
   "cell_type": "markdown",
   "id": "0b4935f9-0e90-47ae-bbbb-339d70a8b7ee",
   "metadata": {},
   "source": [
    "#### 10/Create a label widget to display the result of the conversion in Celsius. Write lbl_result = tk.Label(master=window, text=\"\\N{DEGREE CELSIUS}\") to create the label widget."
   ]
  },
  {
   "cell_type": "code",
   "execution_count": null,
   "id": "059bb2ff-500e-4e8e-b713-c983f9dc5bb6",
   "metadata": {},
   "outputs": [],
   "source": [
    "lbl_result = tk.Label(master=window, text=\"\\N{DEGREE CELSIUS}\")"
   ]
  },
  {
   "cell_type": "markdown",
   "id": "6d5892a8-06f9-470f-8031-04267ca867a0",
   "metadata": {},
   "source": [
    "#### 11/Use the grid() geometry manager to arrange the frame, button, and result label widgets. Write frm_entry.grid(row=0, column=0, padx=10), btn_convert.grid(row=0, column=1, pady=10), and lbl_result.grid(row=0, column=2, padx=10) to arrange the widgets."
   ]
  },
  {
   "cell_type": "code",
   "execution_count": null,
   "id": "9b30064b-7264-4a3b-98ad-e264cf0950c7",
   "metadata": {},
   "outputs": [],
   "source": [
    "frm_entry.grid(row=0, column=0, padx=10)\n",
    "btn_convert.grid(row=0, column=1, pady=10)\n",
    "lbl_result.grid(row=0, column=2, padx=10)"
   ]
  },
  {
   "cell_type": "markdown",
   "id": "1daf17a8-10a6-4d36-9710-bb289ef217ce",
   "metadata": {},
   "source": [
    "#### 12/Call the mainloop() method of the window object to start the application."
   ]
  },
  {
   "cell_type": "code",
   "execution_count": null,
   "id": "b87d68d5-625d-4443-a720-ad25ece5a68f",
   "metadata": {},
   "outputs": [],
   "source": [
    "window.mainloop()"
   ]
  },
  {
   "cell_type": "markdown",
   "id": "42e03cef-4086-4cdf-a21f-be9646795f47",
   "metadata": {},
   "source": [
    "### final result :"
   ]
  },
  {
   "cell_type": "code",
   "execution_count": 25,
   "id": "e5ddef06-1df0-449e-ba8e-a7c4ba87b2c1",
   "metadata": {},
   "outputs": [
    {
     "name": "stdout",
     "output_type": "stream",
     "text": [
      "4.444444444444445 ℃\n",
      "10.0 ℃\n",
      "10.0 ℃\n",
      "10.0 ℃\n",
      "10.0 ℃\n",
      "10.0 ℃\n"
     ]
    }
   ],
   "source": [
    "import tkinter as tk\n",
    "def fahrenheit_to_celsius() : \n",
    "    fahrenheit_to_celsius1=ent_temperature.get()\n",
    "    degre_celsius = (float(fahrenheit_to_celsius1) - 32) * 5 / 9\n",
    "    print (f\"{degre_celsius} \\N{DEGREE CELSIUS}\")\n",
    "window=tk.Tk()\n",
    "window.title(\"Temperature Converter\")\n",
    "window.resizable(width=False, height=False)\n",
    "\n",
    "\n",
    "frm_entry = tk.Frame(master=window)\n",
    "ent_temperature= tk.Entry(master=frm_entry, width=10) \n",
    "\n",
    "lbl_temp = tk.Label(master=frm_entry, text=\"\\N{DEGREE FAHRENHEIT}\")\n",
    "ent_temperature.grid(row=0, column=0, sticky=\"e\") \n",
    "lbl_temp.grid(row=0, column=1, sticky=\"w\") \n",
    "\n",
    "btn_convert = tk.Button(master=window, text=\"\\N{RIGHTWARDS BLACK ARROW}\", command=fahrenheit_to_celsius)\n",
    "lbl_result = tk.Label(master=window, text=\"\\N{DEGREE CELSIUS}\")\n",
    "\n",
    "frm_entry.grid(row=0, column=0, padx=10)\n",
    "btn_convert.grid(row=0, column=1, pady=10)\n",
    "lbl_result.grid(row=0, column=2, padx=10)\n",
    "\n",
    "window.mainloop()  #12/Call the mainloop() method of the window object to start the application."
   ]
  },
  {
   "cell_type": "code",
   "execution_count": null,
   "id": "2467b542-32ed-4363-b9b2-ec64b8d23137",
   "metadata": {},
   "outputs": [],
   "source": []
  },
  {
   "cell_type": "code",
   "execution_count": null,
   "id": "185d06e8-4d1d-42ee-a8ba-b7bd05e0f74d",
   "metadata": {},
   "outputs": [],
   "source": []
  },
  {
   "cell_type": "code",
   "execution_count": null,
   "id": "68760c29-527a-4241-8b8e-d9389ec12adb",
   "metadata": {},
   "outputs": [],
   "source": []
  },
  {
   "cell_type": "code",
   "execution_count": null,
   "id": "4da4d381-b74a-4570-95a5-8836a26665f4",
   "metadata": {},
   "outputs": [],
   "source": []
  },
  {
   "cell_type": "code",
   "execution_count": null,
   "id": "c3021d27-4bbe-4be1-9b5a-10cbe7dd9fd4",
   "metadata": {},
   "outputs": [],
   "source": []
  },
  {
   "cell_type": "code",
   "execution_count": null,
   "id": "43bfb351-b116-4d97-911b-14da295005c2",
   "metadata": {},
   "outputs": [],
   "source": []
  },
  {
   "cell_type": "code",
   "execution_count": null,
   "id": "27eedda3-cd82-481e-a3ea-6fb60c672ba2",
   "metadata": {},
   "outputs": [],
   "source": []
  }
 ],
 "metadata": {
  "kernelspec": {
   "display_name": "Python 3 (ipykernel)",
   "language": "python",
   "name": "python3"
  },
  "language_info": {
   "codemirror_mode": {
    "name": "ipython",
    "version": 3
   },
   "file_extension": ".py",
   "mimetype": "text/x-python",
   "name": "python",
   "nbconvert_exporter": "python",
   "pygments_lexer": "ipython3",
   "version": "3.12.4"
  }
 },
 "nbformat": 4,
 "nbformat_minor": 5
}
